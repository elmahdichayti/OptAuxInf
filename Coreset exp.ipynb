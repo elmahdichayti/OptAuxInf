{
 "cells": [
  {
   "cell_type": "code",
   "execution_count": 1,
   "id": "1f2c241b-7184-480a-b05d-f1ed7efd3d64",
   "metadata": {
    "tags": []
   },
   "outputs": [],
   "source": [
    "import torch\n",
    "from torch import nn\n",
    "from torch.utils.data import DataLoader, Dataset\n",
    "from torchvision import datasets\n",
    "from torchvision.transforms.functional import rotate\n",
    "from torchvision.transforms import ToTensor, Lambda,Compose\n",
    "import copy\n",
    "import numpy as np\n",
    "import matplotlib.pyplot as plt\n",
    "from tqdm import tqdm\n",
    "\n",
    "import pickle\n",
    "\n",
    "%matplotlib inline"
   ]
  },
  {
   "cell_type": "markdown",
   "id": "b803975c-a73c-4f82-ad89-383268d6c23c",
   "metadata": {},
   "source": [
    "# Dataset"
   ]
  },
  {
   "cell_type": "code",
   "execution_count": 2,
   "id": "47112334-a365-4465-8102-1737da4cfc6c",
   "metadata": {
    "tags": []
   },
   "outputs": [],
   "source": [
    "training_data = datasets.MNIST(\n",
    "    root=\"data\",\n",
    "    train=True,\n",
    "    download=True,\n",
    "    transform=ToTensor()\n",
    ")\n",
    "test_data = datasets.MNIST(\n",
    "    root=\"data\",\n",
    "    train=False,\n",
    "    download=True,\n",
    "    transform=ToTensor()\n",
    ")\n"
   ]
  },
  {
   "cell_type": "code",
   "execution_count": 3,
   "id": "ae7e962b-6270-4b53-b29a-d599e4603796",
   "metadata": {
    "tags": []
   },
   "outputs": [],
   "source": [
    "train_dataloaderF = DataLoader(training_data, batch_size=256,shuffle=True)\n",
    "test_dataloader = DataLoader(test_data, batch_size=64)"
   ]
  },
  {
   "cell_type": "code",
   "execution_count": 4,
   "id": "630b18e8-08d5-48d0-8c21-24a16b669d5f",
   "metadata": {
    "tags": []
   },
   "outputs": [
    {
     "name": "stdout",
     "output_type": "stream",
     "text": [
      "cuda:0\n"
     ]
    }
   ],
   "source": [
    "device = torch.device('cuda:0' if torch.cuda.is_available() else 'cpu')\n",
    "print(device)"
   ]
  },
  {
   "cell_type": "markdown",
   "id": "62cb1e07-f7c1-4d4d-82f3-6d2c6188695c",
   "metadata": {},
   "source": [
    "# Model"
   ]
  },
  {
   "cell_type": "code",
   "execution_count": 5,
   "id": "33fefa7d-0f56-465f-8da4-21b6d26a8bc0",
   "metadata": {
    "tags": []
   },
   "outputs": [],
   "source": [
    "class NeuralNetwork(nn.Module):\n",
    "    def __init__(self):\n",
    "        super(NeuralNetwork, self).__init__()\n",
    "        self.flatten = nn.Flatten()\n",
    "        self.linear_relu_stack = nn.Sequential(\n",
    "            nn.Linear(28*28, 512),\n",
    "            nn.ReLU(),\n",
    "            nn.Linear(512, 512),\n",
    "            nn.ReLU(),\n",
    "            nn.Linear(512, 10)\n",
    "        )\n",
    "\n",
    "    def forward(self, x):\n",
    "        x = self.flatten(x)\n",
    "        logits = self.linear_relu_stack(x)\n",
    "        return logits"
   ]
  },
  {
   "cell_type": "code",
   "execution_count": 6,
   "id": "259dcc16-0b68-427d-a8e6-fb2d54f10feb",
   "metadata": {
    "tags": []
   },
   "outputs": [],
   "source": [
    "loss_fn = nn.CrossEntropyLoss()"
   ]
  },
  {
   "cell_type": "code",
   "execution_count": 7,
   "id": "c93e05b8-3fb5-499e-b338-b6658747af8e",
   "metadata": {
    "tags": []
   },
   "outputs": [],
   "source": [
    "def compute_grad(model,X,y,device=device):\n",
    "    g = [None for _ in model.parameters()]\n",
    "    X, y = X.to(device), y.to(device)\n",
    "    pred = model(X)\n",
    "    loss = loss_fn(pred, y)\n",
    "    model.zero_grad()\n",
    "    loss.backward()\n",
    "    with torch.no_grad():\n",
    "        for i,param in enumerate(model.parameters()):\n",
    "            g[i] = param.grad\n",
    "    return g, loss"
   ]
  },
  {
   "cell_type": "markdown",
   "id": "4b1948c5-ef7b-486c-ae66-2ee7e6b8ef1d",
   "metadata": {},
   "source": [
    "## Random Core-sets"
   ]
  },
  {
   "cell_type": "code",
   "execution_count": 8,
   "id": "006fe236-0f9b-49b2-95cf-faf57783ba1c",
   "metadata": {
    "tags": []
   },
   "outputs": [],
   "source": [
    "class dataset(Dataset):\n",
    "    def __init__(self,C):\n",
    "        self.X = C[0]\n",
    "        self.y = C[1]\n",
    "        \n",
    "    def __len__(self):\n",
    "        return len(self.X)\n",
    "    \n",
    "    def __getitem__(self, idx):\n",
    "        return self.X[idx],self.y[idx]"
   ]
  },
  {
   "cell_type": "code",
   "execution_count": 19,
   "id": "f9556c32-c5e9-421a-873c-aad07290708b",
   "metadata": {
    "tags": []
   },
   "outputs": [],
   "source": [
    "DloadH = DataLoader(training_data, batch_size=2048,shuffle=True)"
   ]
  },
  {
   "cell_type": "code",
   "execution_count": 20,
   "id": "20769010-bdf6-4d9a-878a-f8871edf70a7",
   "metadata": {
    "tags": []
   },
   "outputs": [
    {
     "name": "stdout",
     "output_type": "stream",
     "text": [
      "32\n"
     ]
    }
   ],
   "source": [
    "for coreset in DloadH:\n",
    "    DlH = DataLoader(dataset(coreset), batch_size=64,shuffle=True)\n",
    "    print(len(DlH))\n",
    "    break"
   ]
  },
  {
   "cell_type": "code",
   "execution_count": 21,
   "id": "25287464-b59d-4d9e-9620-db9366e704ca",
   "metadata": {
    "tags": []
   },
   "outputs": [],
   "source": [
    "try:\n",
    "    coreset = next(enumerate(DloadH))\n",
    "except StopIteration:\n",
    "    DloadH = iter(train_dataloaderH)\n",
    "    coreset = next(DloadH)"
   ]
  },
  {
   "cell_type": "code",
   "execution_count": 22,
   "id": "8b8ba8b4-bcae-4fd5-b5ba-88c12f01f7cb",
   "metadata": {
    "tags": []
   },
   "outputs": [],
   "source": [
    "def AUXMOM(lrs,a, model, loss_fn,epochs):\n",
    "    Res = {\"train_loss\":[],\"test_loss\":[],\"test_acc\":[]}\n",
    "    dloadH = iter(DloadH)\n",
    "    for t in range(epochs):\n",
    "              #print(f\"Epoch {t+1}\\n-------------------------------\")\n",
    "            size = len(train_dataloaderF.dataset)\n",
    "            m_f = [None for _ in model.parameters()]\n",
    "            for batch, (X, y) in enumerate(train_dataloaderF):\n",
    "                lr = lrs[t*len(train_dataloaderF) + batch]\n",
    "                \n",
    "                g_f,_ = compute_grad(model,X,y,device=device)\n",
    "                with torch.no_grad():\n",
    "                    for i in range(len(m_f)):\n",
    "                        m_f[i] = g_f[i] if batch==0 else (1-a)*m_f[i] + a*g_f[i]\n",
    "\n",
    "                if batch % 3==0 :\n",
    "                    try:\n",
    "                        coreset = next(dloadH)\n",
    "                    except StopIteration:\n",
    "                        dloadH = iter(DloadH)\n",
    "                        coreset = next(dloadH)\n",
    "                    # Compute prediction and loss\n",
    "                    DlH = DataLoader(dataset(coreset), batch_size=64,shuffle=True)\n",
    "                backup = copy.deepcopy(model).to(device)\n",
    "                for X,y in DlH:\n",
    "                    grad_hx,_ = compute_grad(backup,X,y,device=device)\n",
    "                    grad_hy, loss = compute_grad(model,X,y,device=device)\n",
    "                    \n",
    "                    with torch.no_grad():\n",
    "                        for i,param in enumerate(model.parameters()):\n",
    "                            param -= lr * (grad_hy[i] - grad_hx[i] + m_f[i])\n",
    "                                   \n",
    "                if batch % 50 == 0:\n",
    "                    loss, current = loss.item(), batch * len(X)\n",
    "                        # print(f\"loss: {loss:>7f}  [{current:>5d}/{size:>5d}]\")\n",
    "                    Res[\"train_loss\"].append(loss)\n",
    "                        #test\n",
    "                    size = len(test_dataloader.dataset)\n",
    "                    num_batches = len(test_dataloader)\n",
    "                    test_loss, correct = 0, 0\n",
    "\n",
    "                    with torch.no_grad():\n",
    "                        for X, y in test_dataloader:\n",
    "                            X, y = X.to(device), y.to(device)\n",
    "                            pred = model(X)\n",
    "                            test_loss += loss_fn(pred, y).item()\n",
    "                            correct += (pred.argmax(1) == y).type(torch.float).sum().item()\n",
    "\n",
    "                    test_loss /= num_batches\n",
    "                    correct /= size\n",
    "                    Res[\"test_loss\"].append(test_loss)\n",
    "                    Res[\"test_acc\"].append(correct)\n",
    "                    # print(f\"Test Error: \\n Accuracy: {(100*correct):>0.1f}%, Avg loss: {test_loss:>8f} \\n\")\n",
    "    return Res"
   ]
  },
  {
   "cell_type": "code",
   "execution_count": 23,
   "id": "6ac7d6d2-ce0b-4ec9-b4f1-4ed04f0b3c7b",
   "metadata": {
    "tags": []
   },
   "outputs": [],
   "source": [
    "def Naive(lrs,a, model, loss_fn,epochs):\n",
    "    Res = {\"train_loss\":[],\"test_loss\":[],\"test_acc\":[]}\n",
    "    dloadH = iter(DloadH)\n",
    "    for t in range(epochs):\n",
    "              #print(f\"Epoch {t+1}\\n-------------------------------\")\n",
    "            size = len(train_dataloaderF.dataset)\n",
    "            for batch, (X, y) in enumerate(train_dataloaderF):\n",
    "                lr = lrs[t*len(train_dataloaderF) + batch]\n",
    "\n",
    "                if batch % 3==0 :\n",
    "                    try:\n",
    "                        coreset = next(dloadH)\n",
    "                    except StopIteration:\n",
    "                        dloadH = iter(DloadH)\n",
    "                        coreset = next(dloadH)\n",
    "                    # Compute prediction and loss\n",
    "                    DlH = DataLoader(dataset(coreset), batch_size=64,shuffle=True)\n",
    "                for X,y in DlH:\n",
    "                    grad_hy, loss = compute_grad(model,X,y,device=device)\n",
    "                    \n",
    "                    with torch.no_grad():\n",
    "                        for i,param in enumerate(model.parameters()):\n",
    "                            param -= lr * (grad_hy[i])\n",
    "                                   \n",
    "                if batch % 50 == 0:\n",
    "                    loss, current = loss.item(), batch * len(X)\n",
    "                        # print(f\"loss: {loss:>7f}  [{current:>5d}/{size:>5d}]\")\n",
    "                    Res[\"train_loss\"].append(loss)\n",
    "                        #test\n",
    "                    size = len(test_dataloader.dataset)\n",
    "                    num_batches = len(test_dataloader)\n",
    "                    test_loss, correct = 0, 0\n",
    "\n",
    "                    with torch.no_grad():\n",
    "                        for X, y in test_dataloader:\n",
    "                            X, y = X.to(device), y.to(device)\n",
    "                            pred = model(X)\n",
    "                            test_loss += loss_fn(pred, y).item()\n",
    "                            correct += (pred.argmax(1) == y).type(torch.float).sum().item()\n",
    "\n",
    "                    test_loss /= num_batches\n",
    "                    correct /= size\n",
    "                    Res[\"test_loss\"].append(test_loss)\n",
    "                    Res[\"test_acc\"].append(correct)\n",
    "                    # print(f\"Test Error: \\n Accuracy: {(100*correct):>0.1f}%, Avg loss: {test_loss:>8f} \\n\")\n",
    "    return Res"
   ]
  },
  {
   "cell_type": "code",
   "execution_count": 83,
   "id": "85558bed-ac8a-4881-8b0f-3b2aad72892f",
   "metadata": {
    "tags": []
   },
   "outputs": [
    {
     "name": "stdout",
     "output_type": "stream",
     "text": [
      "Naive\n",
      "---------t= 0\n",
      "---------t= 1\n"
     ]
    }
   ],
   "source": [
    "trials = 2\n",
    "epochs = 10\n",
    "T = np.arange(len(train_dataloaderF)*epochs) + 1\n",
    "lrs = 1e-2 * np.ones_like(T) #1e-1 / np.sqrt(T)\n",
    "a = 0.1\n",
    "Res = {\"AUXMOM\":{} , \"Naive\":{}}\n",
    "for alg in Res:\n",
    "    print(alg)\n",
    "    for t in range(trials):\n",
    "        print(\"---------t=\",t)\n",
    "        model = NeuralNetwork().to(device)\n",
    "        if alg == \"AUXMOM\":\n",
    "            Res[alg] = AUXMOM(lrs,a, model, loss_fn,epochs)\n",
    "        else:\n",
    "            Res[alg] = Naive(lrs,a, model, loss_fn,epochs)\n",
    "        with open(f'results/MnistExp_Coreset2.pkl', 'wb') as f:\n",
    "            pickle.dump(Res, f)"
   ]
  },
  {
   "cell_type": "code",
   "execution_count": 89,
   "id": "584db29d-d446-46e9-a33a-ed05578bbec3",
   "metadata": {
    "tags": []
   },
   "outputs": [
    {
     "data": {
      "text/plain": [
       "<matplotlib.legend.Legend at 0x1bf020f5110>"
      ]
     },
     "execution_count": 89,
     "metadata": {},
     "output_type": "execute_result"
    },
    {
     "data": {
      "image/png": "[encoded data removed]",
      "text/plain": [
       "<Figure size 640x480 with 1 Axes>"
      ]
     },
     "metadata": {},
     "output_type": "display_data"
    }
   ],
   "source": [
    "for alg in Res:\n",
    "    plt.plot(Res[alg][\"test_acc\"],label = alg)\n",
    "plt.legend()"
   ]
  },
  {
   "cell_type": "markdown",
   "id": "854defe3-2e89-42d5-956e-f30de27d14bb",
   "metadata": {},
   "source": [
    "### Second exp:"
   ]
  },
  {
   "cell_type": "code",
   "execution_count": 15,
   "id": "1d548243-32e7-4dfb-b670-289314c28d79",
   "metadata": {
    "tags": []
   },
   "outputs": [],
   "source": [
    "DloadH = DataLoader(training_data, batch_size=len(training_data)//5,shuffle=True)"
   ]
  },
  {
   "cell_type": "code",
   "execution_count": 17,
   "id": "ff5ef8c7-0834-416f-9194-920c08a3be14",
   "metadata": {
    "tags": []
   },
   "outputs": [],
   "source": [
    "def AUXMOM(lrs,a, model, loss_fn,epochs):\n",
    "    Res = {\"train_loss\":[],\"test_loss\":[],\"test_acc\":[]}\n",
    "    dloadH = iter(DloadH)\n",
    "    coreset = next(dloadH)\n",
    "    DlH = DataLoader(dataset(coreset), batch_size=64,shuffle=True)\n",
    "    for t in range(epochs):\n",
    "              #print(f\"Epoch {t+1}\\n-------------------------------\")\n",
    "            size = len(train_dataloaderF.dataset)\n",
    "            m_f = [None for _ in model.parameters()]\n",
    "            for batch, (X, y) in enumerate(train_dataloaderF):\n",
    "                lr = lrs[t*len(train_dataloaderF) + batch]\n",
    "                \n",
    "                g_f,_ = compute_grad(model,X,y,device=device)\n",
    "                with torch.no_grad():\n",
    "                    for i in range(len(m_f)):\n",
    "                        m_f[i] = g_f[i] if (batch==0 and t==0) else (1-a)*m_f[i] + a*g_f[i]\n",
    "  \n",
    "                backup = copy.deepcopy(model).to(device)\n",
    "                for X,y in DlH:\n",
    "                    grad_hx,_ = compute_grad(backup,X,y,device=device)\n",
    "                    grad_hy, loss = compute_grad(model,X,y,device=device)\n",
    "                    \n",
    "                    with torch.no_grad():\n",
    "                        for i,param in enumerate(model.parameters()):\n",
    "                            param -= lr * (grad_hy[i] - grad_hx[i] + m_f[i])\n",
    "                                   \n",
    "                if batch % 50 == 0:\n",
    "                    loss, current = loss.item(), batch * len(X)\n",
    "                        # print(f\"loss: {loss:>7f}  [{current:>5d}/{size:>5d}]\")\n",
    "                    Res[\"train_loss\"].append(loss)\n",
    "                        #test\n",
    "                    size = len(test_dataloader.dataset)\n",
    "                    num_batches = len(test_dataloader)\n",
    "                    test_loss, correct = 0, 0\n",
    "\n",
    "                    with torch.no_grad():\n",
    "                        for X, y in test_dataloader:\n",
    "                            X, y = X.to(device), y.to(device)\n",
    "                            pred = model(X)\n",
    "                            test_loss += loss_fn(pred, y).item()\n",
    "                            correct += (pred.argmax(1) == y).type(torch.float).sum().item()\n",
    "\n",
    "                    test_loss /= num_batches\n",
    "                    correct /= size\n",
    "                    Res[\"test_loss\"].append(test_loss)\n",
    "                    Res[\"test_acc\"].append(correct)\n",
    "                    # print(f\"Test Error: \\n Accuracy: {(100*correct):>0.1f}%, Avg loss: {test_loss:>8f} \\n\")\n",
    "    return Res"
   ]
  },
  {
   "cell_type": "code",
   "execution_count": 17,
   "id": "232b930b-38e5-47f5-80ef-8aff0222f3c4",
   "metadata": {
    "tags": []
   },
   "outputs": [],
   "source": [
    "def Naive(lrs,a, model, loss_fn,epochs):\n",
    "    Res = {\"train_loss\":[],\"test_loss\":[],\"test_acc\":[]}\n",
    "    dloadH = iter(DloadH)\n",
    "    coreset = next(dloadH)\n",
    "    DlH = DataLoader(dataset(coreset), batch_size=64,shuffle=True)\n",
    "    for t in range(epochs):\n",
    "              #print(f\"Epoch {t+1}\\n-------------------------------\")\n",
    "            size = len(train_dataloaderF.dataset)\n",
    "            for batch, (X, y) in enumerate(train_dataloaderF):\n",
    "                lr = lrs[t*len(train_dataloaderF) + batch]\n",
    "\n",
    "                for X,y in DlH:\n",
    "                    grad_hy, loss = compute_grad(model,X,y,device=device)\n",
    "                    \n",
    "                    with torch.no_grad():\n",
    "                        for i,param in enumerate(model.parameters()):\n",
    "                            param -= lr * (grad_hy[i])\n",
    "                                   \n",
    "                if batch % 50 == 0:\n",
    "                    loss, current = loss.item(), batch * len(X)\n",
    "                        # print(f\"loss: {loss:>7f}  [{current:>5d}/{size:>5d}]\")\n",
    "                    Res[\"train_loss\"].append(loss)\n",
    "                        #test\n",
    "                    size = len(test_dataloader.dataset)\n",
    "                    num_batches = len(test_dataloader)\n",
    "                    test_loss, correct = 0, 0\n",
    "\n",
    "                    with torch.no_grad():\n",
    "                        for X, y in test_dataloader:\n",
    "                            X, y = X.to(device), y.to(device)\n",
    "                            pred = model(X)\n",
    "                            test_loss += loss_fn(pred, y).item()\n",
    "                            correct += (pred.argmax(1) == y).type(torch.float).sum().item()\n",
    "\n",
    "                    test_loss /= num_batches\n",
    "                    correct /= size\n",
    "                    Res[\"test_loss\"].append(test_loss)\n",
    "                    Res[\"test_acc\"].append(correct)\n",
    "                    # print(f\"Test Error: \\n Accuracy: {(100*correct):>0.1f}%, Avg loss: {test_loss:>8f} \\n\")\n",
    "    return Res"
   ]
  },
  {
   "cell_type": "code",
   "execution_count": 108,
   "id": "fd17326a-f1b3-4f54-a963-98b7c22597de",
   "metadata": {
    "tags": []
   },
   "outputs": [
    {
     "name": "stdout",
     "output_type": "stream",
     "text": [
      "AUXMOM\n",
      "---------t= 0\n",
      "---------t= 1\n",
      "Naive\n",
      "---------t= 0\n",
      "---------t= 1\n"
     ]
    }
   ],
   "source": [
    "trials = 2\n",
    "epochs = 10\n",
    "T = np.arange(len(train_dataloaderF)*epochs) + 1\n",
    "lrs = 1e-2 * np.ones_like(T) #1e-1 / np.sqrt(T)\n",
    "a = 0.1\n",
    "Res = {\"AUXMOM\":{} , \"Naive\":{}}\n",
    "for alg in Res:\n",
    "    print(alg)\n",
    "    for t in range(trials):\n",
    "        print(\"---------t=\",t)\n",
    "        model = NeuralNetwork().to(device)\n",
    "        if alg == \"AUXMOM\":\n",
    "            Res[alg][t] = AUXMOM(lrs,a, model, loss_fn,epochs)\n",
    "        else:\n",
    "            Res[alg][t] = Naive(lrs,a, model, loss_fn,epochs)\n",
    "        with open(f'results/MnistExp_Coreset3.pkl', 'wb') as f:\n",
    "            pickle.dump(Res, f)"
   ]
  },
  {
   "cell_type": "code",
   "execution_count": 109,
   "id": "84b54c81-8036-4af8-b38e-25130c668ad1",
   "metadata": {
    "tags": []
   },
   "outputs": [
    {
     "data": {
      "text/plain": [
       "<matplotlib.legend.Legend at 0x1bf0c63a3d0>"
      ]
     },
     "execution_count": 109,
     "metadata": {},
     "output_type": "execute_result"
    },
    {
     "data": {
      "image/png": "[encoded data removed]",
      "text/plain": [
       "<Figure size 640x480 with 1 Axes>"
      ]
     },
     "metadata": {},
     "output_type": "display_data"
    }
   ],
   "source": [
    "for alg in Res:\n",
    "    plt.plot(Res[alg][1][\"test_acc\"],label = alg)\n",
    "plt.legend()"
   ]
  },
  {
   "cell_type": "code",
   "execution_count": 35,
   "id": "26b4e866-fe9c-45bd-99df-cdd611ba1d2b",
   "metadata": {
    "tags": []
   },
   "outputs": [],
   "source": [
    "train_dataloaderF = DataLoader(training_data, batch_size=64,shuffle=True)\n",
    "test_dataloader = DataLoader(test_data, batch_size=64)"
   ]
  },
  {
   "cell_type": "code",
   "execution_count": 40,
   "id": "7137ebf9-d543-4590-acdd-ca749e6f166a",
   "metadata": {
    "tags": []
   },
   "outputs": [],
   "source": [
    "def Normal(lrs,a, model, loss_fn,epochs):\n",
    "    Res = {\"train_loss\":[],\"test_loss\":[],\"test_acc\":[]}\n",
    "    iterations = 0\n",
    "    for t in tqdm(range(epochs)):\n",
    "              #print(f\"Epoch {t+1}\\n-------------------------------\")\n",
    "            size = len(train_dataloaderF.dataset)\n",
    "            m_f = [None for _ in model.parameters()]\n",
    "            for batch, (X, y) in enumerate(train_dataloaderF):\n",
    "                lr = lrs[t*len(train_dataloaderF) + batch]\n",
    "                \n",
    "                g_f,loss = compute_grad(model,X,y,device=device)\n",
    "                with torch.no_grad():\n",
    "                    for i in range(len(m_f)):\n",
    "                        m_f[i] = g_f[i] if (batch==0 and t==0) else (1-a)*m_f[i] + a*g_f[i]\n",
    "  \n",
    "                    \n",
    "                with torch.no_grad():\n",
    "                    for i,param in enumerate(model.parameters()):\n",
    "                        param -= lr * m_f[i]\n",
    "                                   \n",
    "                if iterations % 1600 == 0:\n",
    "                    loss, current = loss.item(), batch * len(X)\n",
    "                        # print(f\"loss: {loss:>7f}  [{current:>5d}/{size:>5d}]\")\n",
    "                    Res[\"train_loss\"].append(loss)\n",
    "                        #test\n",
    "                    size = len(test_dataloader.dataset)\n",
    "                    num_batches = len(test_dataloader)\n",
    "                    test_loss, correct = 0, 0\n",
    "\n",
    "                    with torch.no_grad():\n",
    "                        for X, y in test_dataloader:\n",
    "                            X, y = X.to(device), y.to(device)\n",
    "                            pred = model(X)\n",
    "                            test_loss += loss_fn(pred, y).item()\n",
    "                            correct += (pred.argmax(1) == y).type(torch.float).sum().item()\n",
    "\n",
    "                    test_loss /= num_batches\n",
    "                    correct /= size\n",
    "                    Res[\"test_loss\"].append(test_loss)\n",
    "                    Res[\"test_acc\"].append(correct)\n",
    "                iterations += 1\n",
    "                    # print(f\"Test Error: \\n Accuracy: {(100*correct):>0.1f}%, Avg loss: {test_loss:>8f} \\n\")\n",
    "    return Res"
   ]
  },
  {
   "cell_type": "code",
   "execution_count": 42,
   "id": "c54d4aac-e6a1-4a09-8965-068ed8e58e46",
   "metadata": {
    "tags": []
   },
   "outputs": [
    {
     "name": "stdout",
     "output_type": "stream",
     "text": [
      "---------t= 0\n"
     ]
    },
    {
     "name": "stderr",
     "output_type": "stream",
     "text": [
      "100%|██████████████████████████████████████████████████████████████████████████████████| 85/85 [10:42<00:00,  7.56s/it]\n"
     ]
    },
    {
     "name": "stdout",
     "output_type": "stream",
     "text": [
      "---------t= 1\n"
     ]
    },
    {
     "name": "stderr",
     "output_type": "stream",
     "text": [
      "100%|██████████████████████████████████████████████████████████████████████████████████| 85/85 [10:52<00:00,  7.67s/it]\n"
     ]
    },
    {
     "name": "stdout",
     "output_type": "stream",
     "text": [
      "---------t= 2\n"
     ]
    },
    {
     "name": "stderr",
     "output_type": "stream",
     "text": [
      "100%|██████████████████████████████████████████████████████████████████████████████████| 85/85 [10:48<00:00,  7.62s/it]\n"
     ]
    },
    {
     "name": "stdout",
     "output_type": "stream",
     "text": [
      "---------t= 3\n"
     ]
    },
    {
     "name": "stderr",
     "output_type": "stream",
     "text": [
      "100%|██████████████████████████████████████████████████████████████████████████████████| 85/85 [11:25<00:00,  8.07s/it]\n"
     ]
    }
   ],
   "source": [
    "trials = 4\n",
    "epochs = 85\n",
    "T = np.arange(len(train_dataloaderF)*epochs) + 1\n",
    "lrs = 1e-2 * np.ones_like(T) #1e-1 / np.sqrt(T)\n",
    "a = 0.1\n",
    "Res = {\"Normal2\":{}}\n",
    "alg = \"Normal2\"\n",
    "for t in range(trials):\n",
    "    print(\"---------t=\",t)\n",
    "    model = NeuralNetwork().to(device)\n",
    "    Res[alg][t] = Normal(lrs,a, model, loss_fn,epochs)\n",
    "    with open(f'results/MnistExp_Coreset3_normal2.pkl', 'wb') as f:\n",
    "            pickle.dump(Res, f)"
   ]
  },
  {
   "cell_type": "code",
   "execution_count": 43,
   "id": "3fd84e14-7e51-49ba-a164-a3c703a93790",
   "metadata": {
    "tags": []
   },
   "outputs": [],
   "source": [
    "with open(f'results/MnistExp_CoresetEXP.pkl', 'rb') as f:\n",
    "            D3 = pickle.load(f)"
   ]
  },
  {
   "cell_type": "code",
   "execution_count": 44,
   "id": "6250ca7c-0a89-4277-b254-cd1bf9c018b5",
   "metadata": {
    "tags": []
   },
   "outputs": [],
   "source": [
    "D3[\"Normal2\"] = Res[\"Normal2\"]"
   ]
  },
  {
   "cell_type": "code",
   "execution_count": 45,
   "id": "0fa0663d-a0c9-4d5b-a8f5-d376d51abdfb",
   "metadata": {
    "tags": []
   },
   "outputs": [],
   "source": [
    "with open(f'results/MnistExp_CoresetEXPP.pkl', 'wb') as f:\n",
    "            pickle.dump(D3,f)"
   ]
  },
  {
   "cell_type": "code",
   "execution_count": 13,
   "id": "e3c56828-cb0b-488a-af6c-afc060dd2e07",
   "metadata": {
    "tags": []
   },
   "outputs": [],
   "source": [
    "with open(f'results/MnistExp_CoresetEXPP.pkl', 'rb') as f:\n",
    "            D3 = pickle.load(f)"
   ]
  },
  {
   "cell_type": "code",
   "execution_count": null,
   "id": "a0253c32-ebd9-46b1-924c-d1f9ffdc872a",
   "metadata": {},
   "outputs": [],
   "source": [
    "plt.figure(figsize=(3,3))\n",
    "linestyles = [\"solid\",'dashdot','dotted','dashed']\n",
    "for k,ls in zip(Res,linestyles):\n",
    "  arr = dic[tp][k]\n",
    "  yfit = arr.mean(0)\n",
    "  dyfit = arr.std(0)\n",
    "  print(k,yfit.max())\n",
    "  p = plt.plot(yfit,linestyle=ls,label=\"K=\"+str(k))\n",
    "  color=p[0].get_color()\n",
    "  plt.fill_between(np.arange(len(yfit)),yfit - dyfit, yfit + dyfit,color=color,alpha=0.4)"
   ]
  },
  {
   "cell_type": "code",
   "execution_count": 14,
   "id": "e8f0156b-527c-4540-9166-f92773fae1d7",
   "metadata": {
    "tags": []
   },
   "outputs": [
    {
     "name": "stdout",
     "output_type": "stream",
     "text": [
      "AUXMOM 0.981275\n",
      "Naive 0.9621\n",
      "Normal2 0.9806750000000001\n",
      "Normal 0.899275\n"
     ]
    },
    {
     "data": {
      "image/png": "[encoded data removed]",
      "text/plain": [
       "<Figure size 640x480 with 1 Axes>"
      ]
     },
     "metadata": {},
     "output_type": "display_data"
    }
   ],
   "source": [
    "tp = \"test_acc\"\n",
    "trials = 4\n",
    "labels = [\"Coreset + AuxMOM\",\"Coreset\",\"W/O\",\"AuxMOM - Coreset\"]\n",
    "linestyles = [\"solid\",'dashdot','dotted','dashed']\n",
    "algs = [\"AUXMOM\",\"Naive\",\"Normal2\",\"Normal\"]\n",
    "x = 0\n",
    "for idx,(ls,alg) in enumerate(zip(linestyles,algs)):\n",
    "    arr = np.zeros((trials,len(D3[alg][0][tp][x:])))\n",
    "    for i in range(trials):\n",
    "        arr[i] = D3[alg][i][tp][x:]\n",
    "    yfit = arr.mean(0)\n",
    "    dyfit = arr.std(0)\n",
    "    print(alg,yfit.max())\n",
    "    p = plt.plot(np.arange(x,50),yfit,linestyle=ls,label=labels[idx])\n",
    "    color=p[0].get_color()\n",
    "    plt.fill_between(np.arange(x,50),yfit - dyfit, yfit + dyfit,color=color,alpha=0.4)\n",
    "\n",
    "plt.title(\"test accurracy for different algorithms\")\n",
    "plt.xlabel(\"#iterations/50\")\n",
    "plt.ylabel(\"accuracy\")\n",
    "plt.legend(loc=4)\n",
    "plt.savefig(\"coresetexp.pdf\")"
   ]
  },
  {
   "cell_type": "code",
   "execution_count": 66,
   "id": "8d150e9f-5ba1-4622-9830-9fcc94d6d53e",
   "metadata": {},
   "outputs": [
    {
     "data": {
      "text/plain": [
       "array([30, 31, 32, 33, 34, 35, 36, 37, 38, 39, 40, 41, 42, 43, 44, 45, 46,\n",
       "       47, 48, 49])"
      ]
     },
     "execution_count": 66,
     "metadata": {},
     "output_type": "execute_result"
    }
   ],
   "source": [
    "np.arange(30,50)"
   ]
  },
  {
   "cell_type": "code",
   "execution_count": 24,
   "id": "437a15b7-b4f5-4c4b-8a45-04600a978267",
   "metadata": {},
   "outputs": [],
   "source": [
    "with open(f'results/MnistExp_Coreset2.pkl', 'rb') as f:\n",
    "            D3 = pickle.load(f)"
   ]
  },
  {
   "cell_type": "code",
   "execution_count": 25,
   "id": "eeb562ad-684c-4a5a-bc37-89c580433853",
   "metadata": {
    "tags": []
   },
   "outputs": [
    {
     "name": "stdout",
     "output_type": "stream",
     "text": [
      "AUXMOM\n",
      "Naive\n"
     ]
    }
   ],
   "source": [
    "for alg in D3: print(alg)"
   ]
  },
  {
   "cell_type": "code",
   "execution_count": 26,
   "id": "adc07f3d-15d7-4c8c-9cb9-9d6c64ff01a4",
   "metadata": {
    "tags": []
   },
   "outputs": [
    {
     "name": "stdout",
     "output_type": "stream",
     "text": [
      "AUXMOM 0.9814499999999999\n",
      "Naive 0.96255\n"
     ]
    },
    {
     "data": {
      "image/png": "[encoded data removed]",
      "text/plain": [
       "<Figure size 640x480 with 1 Axes>"
      ]
     },
     "metadata": {},
     "output_type": "display_data"
    }
   ],
   "source": [
    "tp = \"test_acc\"\n",
    "trials = 2\n",
    "labels = [\"AuxMOM\",\"Resampling\"]\n",
    "linestyles = [\"solid\",'dashdot']\n",
    "algs = [\"AUXMOM\",\"Naive\"]\n",
    "x = 0\n",
    "for idx,(ls,alg) in enumerate(zip(linestyles,algs)):\n",
    "    arr = np.zeros((trials,len(D3[alg][0][tp][x:])))\n",
    "    for i in range(trials):\n",
    "        arr[i] = D3[alg][i][tp][x:]\n",
    "    yfit = arr.mean(0)\n",
    "    dyfit = arr.std(0)\n",
    "    print(alg,yfit.max())\n",
    "    p = plt.plot(np.arange(x,50),yfit,linestyle=ls,label=labels[idx])\n",
    "    color=p[0].get_color()\n",
    "    plt.fill_between(np.arange(x,50),yfit - dyfit, yfit + dyfit,color=color,alpha=0.4)\n",
    "\n",
    "plt.title(\"test accurracy for different algorithms\")\n",
    "plt.xlabel(\"#iterations/50\")\n",
    "plt.ylabel(\"accuracy\")\n",
    "plt.legend(loc=4)\n",
    "plt.savefig(\"coresetexpResampling.pdf\")"
   ]
  },
  {
   "cell_type": "code",
   "execution_count": null,
   "id": "be8749ba-ddbc-4569-8ca3-0b3f7ab3443b",
   "metadata": {},
   "outputs": [],
   "source": []
  }
 ],
 "metadata": {
  "kernelspec": {
   "display_name": "Python 3 (ipykernel)",
   "language": "python",
   "name": "python3"
  },
  "language_info": {
   "codemirror_mode": {
    "name": "ipython",
    "version": 3
   },
   "file_extension": ".py",
   "mimetype": "text/x-python",
   "name": "python",
   "nbconvert_exporter": "python",
   "pygments_lexer": "ipython3",
   "version": "3.11.5"
  }
 },
 "nbformat": 4,
 "nbformat_minor": 5
}
