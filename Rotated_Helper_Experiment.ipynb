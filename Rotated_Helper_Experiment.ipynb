{
 "cells": [
  {
   "cell_type": "code",
   "execution_count": 1,
   "metadata": {
    "id": "xPhornC_2d5L",
    "tags": []
   },
   "outputs": [],
   "source": [
    "import torch\n",
    "from torch import nn\n",
    "from torch.utils.data import DataLoader\n",
    "from torchvision import datasets\n",
    "from torchvision.transforms.functional import rotate\n",
    "from torchvision.transforms import ToTensor, Lambda,Compose\n",
    "import copy\n",
    "import numpy as np\n",
    "import matplotlib.pyplot as plt\n",
    "from tqdm import tqdm\n",
    "\n",
    "import pickle\n",
    "\n",
    "%matplotlib inline"
   ]
  },
  {
   "cell_type": "markdown",
   "metadata": {
    "id": "dbrQ32t5ndfc"
   },
   "source": [
    "### Define transformation to rotatate images by a given angle"
   ]
  },
  {
   "cell_type": "code",
   "execution_count": 2,
   "metadata": {
    "id": "lj6RJQ2KzGwN",
    "tags": []
   },
   "outputs": [],
   "source": [
    "class ROTATE(object):\n",
    "    def __init__(self, angle):\n",
    "        self.angle = angle\n",
    "\n",
    "    def __call__(self, img):\n",
    "        return rotate(img,angle=self.angle)"
   ]
  },
  {
   "cell_type": "markdown",
   "metadata": {
    "id": "eE_YyJ10nxQN"
   },
   "source": [
    "### Data set:"
   ]
  },
  {
   "cell_type": "code",
   "execution_count": 3,
   "metadata": {
    "colab": {
     "base_uri": "https://localhost:8080/",
     "height": 423,
     "referenced_widgets": [
      "244d90e0dc464e299c380e5a64ef8c71",
      "711935b63d684720b3427ebe83626c8a",
      "85513c902a6248ddbc2e53ad2b0ccb5d",
      "af8bc5de38274ad09edf8a0e0065d1ac",
      "8a8cbe06302f4c268abf2171e6b4ea50",
      "c12f9cb25f394876b3bb794a440dea37",
      "720dee2a42744ca4955494375a13ee50",
      "6d3394cf3aa5421c9534c7a127af181c",
      "dd2a85ee329145bdbc4b92c3acb29e11",
      "1f57638a46454dfabeea0a431ed8a4ef",
      "3fec890b76db48ecbbbc8a6a5c0becc5",
      "662bfd040cbb42138c5dbdf2955fe0e7",
      "6ceedd256af54f7481ec935b0d5e6599",
      "4b6158da63cf49e193f6bf8f97452543",
      "b300417d97f2429f875cd4227d1813e3",
      "a5690b0e6d9f46a091d9486035ca50a3",
      "714d444583774d178ede8b45121d8f40",
      "b7ea1e3eabb74a6d93c6a78c35a22424",
      "3d1001be2f984631a05d5a1919db8bdf",
      "b536fb6123824034b82f6ebccdd93d2e",
      "bd249843279b488983288dea23e0623f",
      "e3a20be5ccf94e4d813a4771059de048",
      "af8f3d4879464f469a70b667437714f8",
      "33b347f37397439b89bfde21c2448fff",
      "0ea560d8e56e41fcae9034e4e530a21d",
      "7c38a0a18a684375adf2470cdd9fdb3a",
      "5c6886ee717a43fba1f36bfcc7c199ee",
      "47bee41b9e704791935e4a4a14d3dadf",
      "43363a30848540da8d7161b18a5676eb",
      "beeea73dda534198a89d60a66e155334",
      "05aeb080b2a7458998bd7c71694f58b7",
      "6e435934261549f9ac331164af38e35f",
      "eb823a28a54d41a69557c73b20385e13",
      "86ce7bb67f3b49f49bc64f98f6a4e9f0",
      "600b8552184b4b329bdc12321c259b88",
      "a687ac813aa2474485a25a5adab0f1b6",
      "4c57da3fb4084e2d8fc80856d4f7f86b",
      "8947c690df244c2ba9fbebee56457918",
      "c1f8456832be4d62b29b45dba87b9196",
      "5f7858d1ee674513baff249a3a378e98",
      "c5fd4a6d309b40ed8cbadb0660bb634a",
      "a882e7422e7b49f3b0130ef099d0ff6e",
      "707de51a78694b32a683efcc574d3e31",
      "aaa7f5f3190249d0bf80ed5adb64cbd7"
     ]
    },
    "id": "XF5GTWsW2jbj",
    "outputId": "0f947f48-d127-4627-9d77-72355a585519",
    "tags": []
   },
   "outputs": [],
   "source": [
    "training_data = datasets.MNIST(\n",
    "    root=\"data\",\n",
    "    train=True,\n",
    "    download=True,\n",
    "    transform=ToTensor()\n",
    ")\n",
    "test_data = datasets.MNIST(\n",
    "    root=\"data\",\n",
    "    train=False,\n",
    "    download=True,\n",
    "    transform=ToTensor()\n",
    ")\n"
   ]
  },
  {
   "cell_type": "code",
   "execution_count": 4,
   "metadata": {
    "id": "wSbv3HAzR6E9",
    "tags": []
   },
   "outputs": [],
   "source": [
    "train_dataloaderF = DataLoader(training_data, batch_size=256,shuffle=True)\n",
    "test_dataloader = DataLoader(test_data, batch_size=64)"
   ]
  },
  {
   "cell_type": "code",
   "execution_count": 5,
   "metadata": {
    "colab": {
     "base_uri": "https://localhost:8080/"
    },
    "id": "atjCNsDSeaV5",
    "outputId": "cc6810f2-178a-424a-d36a-d9c1bc4c75cb",
    "tags": []
   },
   "outputs": [
    {
     "name": "stdout",
     "output_type": "stream",
     "text": [
      "cuda:0\n"
     ]
    }
   ],
   "source": [
    "device = torch.device('cuda:0' if torch.cuda.is_available() else 'cpu')\n",
    "print(device)"
   ]
  },
  {
   "cell_type": "markdown",
   "metadata": {
    "id": "rC2mHB5joE3d"
   },
   "source": [
    "### Model: A simple FFNN"
   ]
  },
  {
   "cell_type": "code",
   "execution_count": 6,
   "metadata": {
    "id": "tri1SGPq2mi6",
    "tags": []
   },
   "outputs": [],
   "source": [
    "class NeuralNetwork(nn.Module):\n",
    "    def __init__(self):\n",
    "        super(NeuralNetwork, self).__init__()\n",
    "        self.flatten = nn.Flatten()\n",
    "        self.linear_relu_stack = nn.Sequential(\n",
    "            nn.Linear(28*28, 512),\n",
    "            nn.ReLU(),\n",
    "            nn.Linear(512, 512),\n",
    "            nn.ReLU(),\n",
    "            nn.Linear(512, 10)\n",
    "        )\n",
    "\n",
    "    def forward(self, x):\n",
    "        x = self.flatten(x)\n",
    "        logits = self.linear_relu_stack(x)\n",
    "        return logits"
   ]
  },
  {
   "cell_type": "markdown",
   "metadata": {
    "id": "5uK3l1SXoLJO"
   },
   "source": [
    "### Loss"
   ]
  },
  {
   "cell_type": "code",
   "execution_count": 7,
   "metadata": {
    "id": "zjd9PP4A2sVo",
    "tags": []
   },
   "outputs": [],
   "source": [
    "loss_fn = nn.CrossEntropyLoss()"
   ]
  },
  {
   "cell_type": "markdown",
   "metadata": {
    "id": "2t3syxPeoYs9",
    "tags": []
   },
   "source": [
    "### Implementation of AUXMOM: "
   ]
  },
  {
   "cell_type": "code",
   "execution_count": 8,
   "metadata": {
    "tags": []
   },
   "outputs": [],
   "source": [
    "def compute_grad(model,X,y,device=device):\n",
    "    g = [None for _ in model.parameters()]\n",
    "    X, y = X.to(device), y.to(device)\n",
    "    pred = model(X)\n",
    "    loss = loss_fn(pred, y)\n",
    "    model.zero_grad()\n",
    "    loss.backward()\n",
    "    with torch.no_grad():\n",
    "        for i,param in enumerate(model.parameters()):\n",
    "            g[i] = param.grad\n",
    "    return g, loss"
   ]
  },
  {
   "cell_type": "code",
   "execution_count": 9,
   "metadata": {
    "id": "iSoo6m0KDEKf",
    "tags": []
   },
   "outputs": [],
   "source": [
    "def AUXMOM(K,lrs,a, model, loss_fn,epochs):\n",
    "\n",
    "    Res = {\"train_loss\":[],\"test_loss\":[],\"test_acc\":[]}\n",
    "    for t in range(epochs):\n",
    "              #print(f\"Epoch {t+1}\\n-------------------------------\")\n",
    "            size = len(train_dataloaderF.dataset)\n",
    "            m_f = [None for _ in model.parameters()]\n",
    "            dloadH = iter(train_dataloaderH)\n",
    "            for batch, (X, y) in enumerate(train_dataloaderF):\n",
    "                lr = lrs[t*len(train_dataloaderF) + batch]\n",
    "                backup = copy.deepcopy(model).to(device)\n",
    "                \n",
    "                g_f,_ = compute_grad(model,X,y,device=device)\n",
    "                with torch.no_grad():\n",
    "                    for i in range(len(m_f)):\n",
    "                        m_f[i] = g_f[i] if (batch==0 and t==0) else (1-a)*m_f[i] + a*g_f[i]\n",
    "\n",
    "                \n",
    "                for k in range(K):\n",
    "                    try:\n",
    "                        (X, y) = next(dloadH)\n",
    "                    except StopIteration:\n",
    "                        dloadH = iter(train_dataloaderH)\n",
    "                        (X, y) = next(dloadH)\n",
    "                        X, y = X.to(device), y.to(device)\n",
    "                   # Compute prediction and loss\n",
    "                    grad_hx,_ = compute_grad(backup,X,y,device=device)\n",
    "                    grad_hy, loss = compute_grad(model,X,y,device=device)\n",
    "                    \n",
    "                    with torch.no_grad():\n",
    "                        for i,param in enumerate(model.parameters()):\n",
    "                            param -= lr * (grad_hy[i] - grad_hx[i] + m_f[i])\n",
    "                                   \n",
    "                if batch % 50 == 0:\n",
    "                    loss, current = loss.item(), batch * len(X)\n",
    "                        # print(f\"loss: {loss:>7f}  [{current:>5d}/{size:>5d}]\")\n",
    "                    Res[\"train_loss\"].append(loss)\n",
    "                        #test\n",
    "                    size = len(test_dataloader.dataset)\n",
    "                    num_batches = len(test_dataloader)\n",
    "                    test_loss, correct = 0, 0\n",
    "\n",
    "                    with torch.no_grad():\n",
    "                        for X, y in test_dataloader:\n",
    "                            X, y = X.to(device), y.to(device)\n",
    "                            pred = model(X)\n",
    "                            test_loss += loss_fn(pred, y).item()\n",
    "                            correct += (pred.argmax(1) == y).type(torch.float).sum().item()\n",
    "\n",
    "                    test_loss /= num_batches\n",
    "                    correct /= size\n",
    "                    Res[\"test_loss\"].append(test_loss)\n",
    "                    Res[\"test_acc\"].append(correct)\n",
    "                    # print(f\"Test Error: \\n Accuracy: {(100*correct):>0.1f}%, Avg loss: {test_loss:>8f} \\n\")\n",
    "    return Res"
   ]
  },
  {
   "cell_type": "code",
   "execution_count": 10,
   "metadata": {
    "tags": []
   },
   "outputs": [],
   "source": [
    "def AUXMOM(K,lrs,a, model, loss_fn,epochs):\n",
    "\n",
    "    Res = {\"train_loss\":[],\"test_loss\":[],\"test_acc\":[]}\n",
    "    for t in tqdm(range(epochs)):\n",
    "              #print(f\"Epoch {t+1}\\n-------------------------------\")\n",
    "            size = len(train_dataloaderF.dataset)\n",
    "            m = [None for _ in model.parameters()]\n",
    "            dloadH = iter(train_dataloaderH)\n",
    "            for batch, (X, y) in enumerate(train_dataloaderF):\n",
    "                lr = lrs[t*len(train_dataloaderF) + batch]\n",
    "                \n",
    "                g_f,_ = compute_grad(model,X,y,device=device)\n",
    "                \n",
    "                try:\n",
    "                        (X, y) = next(dloadH)\n",
    "                except StopIteration:\n",
    "                        dloadH = iter(train_dataloaderH)\n",
    "                        (X, y) = next(dloadH)\n",
    "                        X, y = X.to(device), y.to(device)\n",
    "                g_h,_ = compute_grad(model,X,y,device=device)\n",
    "                \n",
    "                with torch.no_grad():\n",
    "                    for i in range(len(m)):\n",
    "                        m[i] = g_f[i] - g_h[i] if (batch==0 and t==0) else (1-a)*m[i] + a*(g_f[i] - g_h[i])\n",
    "                for k in range(K):\n",
    "                    try:\n",
    "                        (X, y) = next(dloadH)\n",
    "                    except StopIteration:\n",
    "                        dloadH = iter(train_dataloaderH)\n",
    "                        (X, y) = next(dloadH)\n",
    "                        X, y = X.to(device), y.to(device)\n",
    "                   # Compute prediction and loss\n",
    "                    grad_hy, loss = compute_grad(model,X,y,device=device)\n",
    "                    \n",
    "                    with torch.no_grad():\n",
    "                        for i,param in enumerate(model.parameters()):\n",
    "                            param -= lr * (grad_hy[i] + m[i])\n",
    "                                   \n",
    "                if batch % 50 == 0:\n",
    "                    loss, current = loss.item(), batch * len(X)\n",
    "                        # print(f\"loss: {loss:>7f}  [{current:>5d}/{size:>5d}]\")\n",
    "                    Res[\"train_loss\"].append(loss)\n",
    "                        #test\n",
    "                    size = len(test_dataloader.dataset)\n",
    "                    num_batches = len(test_dataloader)\n",
    "                    test_loss, correct = 0, 0\n",
    "\n",
    "                    with torch.no_grad():\n",
    "                        for X, y in test_dataloader:\n",
    "                            X, y = X.to(device), y.to(device)\n",
    "                            pred = model(X)\n",
    "                            test_loss += loss_fn(pred, y).item()\n",
    "                            correct += (pred.argmax(1) == y).type(torch.float).sum().item()\n",
    "\n",
    "                    test_loss /= num_batches\n",
    "                    correct /= size\n",
    "                    Res[\"test_loss\"].append(test_loss)\n",
    "                    Res[\"test_acc\"].append(correct)\n",
    "                    # print(f\"Test Error: \\n Accuracy: {(100*correct):>0.1f}%, Avg loss: {test_loss:>8f} \\n\")\n",
    "    return Res"
   ]
  },
  {
   "cell_type": "code",
   "execution_count": 23,
   "metadata": {
    "colab": {
     "base_uri": "https://localhost:8080/",
     "height": 433
    },
    "id": "LexXkTjGEfkw",
    "outputId": "f2fcb37a-502e-45a7-d16f-ad33a1ec5cc3",
    "tags": []
   },
   "outputs": [
    {
     "name": "stdout",
     "output_type": "stream",
     "text": [
      "Angle= 0\n",
      "K= 1\n",
      "---------t= 0\n",
      "K= 5\n",
      "---------t= 0\n",
      "K= 10\n",
      "---------t= 0\n",
      "Angle= 45\n",
      "K= 1\n",
      "---------t= 0\n",
      "K= 5\n",
      "---------t= 0\n",
      "K= 10\n",
      "---------t= 0\n",
      "Angle= 90\n",
      "K= 1\n",
      "---------t= 0\n",
      "K= 5\n",
      "---------t= 0\n",
      "K= 10\n",
      "---------t= 0\n",
      "Angle= 180\n",
      "K= 1\n",
      "---------t= 0\n",
      "K= 5\n",
      "---------t= 0\n",
      "K= 10\n",
      "---------t= 0\n"
     ]
    }
   ],
   "source": [
    "Ks = [1,5,10] \n",
    "Angles = [0,45,90,180]\n",
    "trials = 1\n",
    "epochs = 10\n",
    "T = np.arange(len(train_dataloaderF)*epochs) + 1\n",
    "lrs = 1e-2 * np.ones_like(T) #1e-1 / np.sqrt(T)\n",
    "a = 0.1\n",
    "for angle in Angles:\n",
    "    print(\"Angle=\", angle)\n",
    "    Res = {K:{} for K in Ks}\n",
    "    training_data_rotated = datasets.MNIST(\n",
    "    root=\"data\",\n",
    "    train=True,\n",
    "    download=True,\n",
    "    transform=Compose([ToTensor(),ROTATE(angle)])\n",
    "    )\n",
    "    train_dataloaderH = DataLoader(training_data_rotated, batch_size=64,shuffle=True)\n",
    "    for K in Ks:\n",
    "        print(\"K=\",K)\n",
    "        for t in range(trials):\n",
    "            print(\"---------t=\",t)\n",
    "            model = NeuralNetwork().to(device)\n",
    "            Res[K][t] = AUXMOM(K,lrs,a, model, loss_fn,epochs)\n",
    "    with open(f'results/MnistExp_angle{angle}.pkl', 'wb') as f:\n",
    "        pickle.dump(Res, f)"
   ]
  },
  {
   "cell_type": "markdown",
   "metadata": {},
   "source": [
    "#### Changing the batch size"
   ]
  },
  {
   "cell_type": "code",
   "execution_count": 47,
   "metadata": {
    "tags": []
   },
   "outputs": [
    {
     "name": "stdout",
     "output_type": "stream",
     "text": [
      "Angle= 45\n",
      "B= 512\n",
      "---------t= 0\n"
     ]
    },
    {
     "name": "stderr",
     "output_type": "stream",
     "text": [
      "100%|█████████████████████████████████████████████████████████████████████████████████| 10/10 [37:36<00:00, 225.62s/it]\n"
     ]
    },
    {
     "name": "stdout",
     "output_type": "stream",
     "text": [
      "---------t= 1\n"
     ]
    },
    {
     "name": "stderr",
     "output_type": "stream",
     "text": [
      "100%|█████████████████████████████████████████████████████████████████████████████████| 10/10 [37:13<00:00, 223.35s/it]\n"
     ]
    }
   ],
   "source": [
    "Bs = [512]\n",
    "K = 5 \n",
    "angle = 45\n",
    "trials = 2\n",
    "epochs = 10\n",
    "T = np.arange(len(train_dataloaderF)*epochs) + 1\n",
    "lrs = 1e-2 * np.ones_like(T) #1e-1 / np.sqrt(T)\n",
    "a = 0.1\n",
    "print(\"Angle=\", angle)\n",
    "Res = {B:{} for B in Bs}\n",
    "training_data_rotated = datasets.MNIST(\n",
    "    root=\"data\",\n",
    "    train=True,\n",
    "    download=True,\n",
    "    transform=Compose([ToTensor(),ROTATE(angle)])\n",
    "    )\n",
    "  \n",
    "for B in Bs:\n",
    "    print(\"B=\",B)\n",
    "    for t in range(trials):\n",
    "        train_dataloaderH = DataLoader(training_data_rotated, batch_size=B,shuffle=True)\n",
    "        print(\"---------t=\",t)\n",
    "        model = NeuralNetwork().to(device)\n",
    "        Res[B][t] = AUXMOM(K,lrs,a, model, loss_fn,epochs)\n",
    "    with open(f'results/MnistNewExp_angle45,K5,batch{B}iter=2.pkl', 'wb') as f:\n",
    "        pickle.dump(Res, f)"
   ]
  },
  {
   "cell_type": "code",
   "execution_count": 15,
   "metadata": {
    "tags": []
   },
   "outputs": [
    {
     "name": "stdout",
     "output_type": "stream",
     "text": [
      "128 0.9468\n",
      "256 0.9474\n",
      "512 0.9464\n"
     ]
    },
    {
     "data": {
      "text/plain": [
       "<matplotlib.legend.Legend at 0x2d2772f1ed0>"
      ]
     },
     "execution_count": 15,
     "metadata": {},
     "output_type": "execute_result"
    },
    {
     "data": {
      "image/png": "[encoded data removed]",
      "text/plain": [
       "<Figure size 640x480 with 1 Axes>"
      ]
     },
     "metadata": {},
     "output_type": "display_data"
    }
   ],
   "source": [
    "D = {}\n",
    "Bs = [128,256,512]\n",
    "K = 5\n",
    "trials = 2\n",
    "tp = \"test_acc\"\n",
    "linestyles = [\"solid\",'dashdot','dotted']#,'dashed'\n",
    "for B, ls in zip(Bs,linestyles):\n",
    "    with open(f'results/MnistNewExp_angle45,K5,batch{B}iter=2.pkl', 'rb') as f:\n",
    "        D = pickle.load(f)\n",
    "    arr = np.zeros((trials,len(D[B][0][tp])))\n",
    "    for i in range(trials):\n",
    "        arr[i] = np.array(D[B][i][tp])\n",
    "    yfit = arr.mean(0)\n",
    "    dyfit = arr.std(0)\n",
    "    print(B,yfit.max())\n",
    "    p = plt.plot(yfit,linestyle=ls,label=\"Batch = \"+str(B))\n",
    "    color=p[0].get_color()\n",
    "    plt.fill_between(np.arange(len(yfit)),yfit - dyfit, yfit + dyfit,color=color,alpha=0.4)\n",
    "plt.legend()"
   ]
  },
  {
   "cell_type": "markdown",
   "metadata": {},
   "source": [
    "## AUXMVR"
   ]
  },
  {
   "cell_type": "code",
   "execution_count": 16,
   "metadata": {
    "tags": []
   },
   "outputs": [],
   "source": [
    "def AUXMVR(K,lrs,a, model, loss_fn,epochs):\n",
    "\n",
    "    Res = {\"train_loss\":[],\"test_loss\":[],\"test_acc\":[]}\n",
    "    for t in tqdm(range(epochs)):\n",
    "         #print(f\"Epoch {t+1}\\n-------------------------------\")\n",
    "            prev_model = copy.deepcopy(model).to(device)\n",
    "            size = len(train_dataloaderF.dataset)\n",
    "            dloadH = iter(train_dataloaderH)\n",
    "            for batch, (X, y) in enumerate(train_dataloaderF):\n",
    "                lr = lrs[t*len(train_dataloaderF) + batch]\n",
    "\n",
    "                gf,_ = compute_grad(model,X,y,device)\n",
    "                gf_prev,_ = compute_grad(prev_model,X,y,device)\n",
    "                \n",
    "                with torch.no_grad():\n",
    "                    if batch == 0 and t == 0:\n",
    "                        m = gf\n",
    "                    else:\n",
    "                        m = [gf_ + (1 - a) * (m_ - gf_p) for gf_,m_,gf_p in zip(gf,m,gf_prev)]\n",
    "                        \n",
    "\n",
    "                for k in range(K):\n",
    "                    if k==0:\n",
    "                        prev_model = copy.deepcopy(model).to(device)\n",
    "                        \n",
    "                    try:\n",
    "                        (X, y) = next(dloadH)\n",
    "                    except StopIteration:\n",
    "                        dloadH = iter(train_dataloaderH)\n",
    "                        (X, y) = next(dloadH)\n",
    "\n",
    "                    gh,_ = compute_grad(model,X,y,device)\n",
    "                    gh_snap,_ = compute_grad(prev_model,X,y,device)\n",
    "                    \n",
    "\n",
    "                    with torch.no_grad():\n",
    "                        for i,param in enumerate(model.parameters()):\n",
    "                            param -= lr * (gh[i] - gh_snap[i] + m[i])\n",
    "\n",
    "                if batch % 50 == 0:\n",
    "                    with torch.no_grad():\n",
    "                        loss = 0\n",
    "                        for X, y in train_dataloaderF:\n",
    "                            X, y = X.to(device), y.to(device)\n",
    "                            pred = model(X)\n",
    "                            loss += loss_fn(pred, y).item()\n",
    "\n",
    "                    loss /= len(train_dataloaderF)\n",
    "                    Res[\"train_loss\"].append(loss)\n",
    "                    #test\n",
    "                    size = len(test_dataloader.dataset)\n",
    "                    num_batches = len(test_dataloader)\n",
    "                    test_loss, correct = 0, 0\n",
    "\n",
    "                    with torch.no_grad():\n",
    "                        for X, y in test_dataloader:\n",
    "                            X, y = X.to(device), y.to(device)\n",
    "                            pred = model(X)\n",
    "                            test_loss += loss_fn(pred, y).item()\n",
    "                            correct += (pred.argmax(1) == y).type(torch.float).sum().item()\n",
    "\n",
    "                    test_loss /= num_batches\n",
    "                    correct /= size\n",
    "                    Res[\"test_loss\"].append(test_loss)\n",
    "                    Res[\"test_acc\"].append(correct)\n",
    "                    # print(f\"Test Error: \\n Accuracy: {(100*correct):>0.1f}%, Avg loss: {test_loss:>8f} \\n\")\n",
    "    return Res"
   ]
  },
  {
   "cell_type": "code",
   "execution_count": 17,
   "metadata": {
    "tags": []
   },
   "outputs": [
    {
     "name": "stdout",
     "output_type": "stream",
     "text": [
      "Angle= 45\n",
      "K= 1\n",
      "---------t= 0\n"
     ]
    },
    {
     "name": "stderr",
     "output_type": "stream",
     "text": [
      "100%|██████████████████████████████████████████████████████████████████████████████████| 10/10 [09:39<00:00, 57.93s/it]\n"
     ]
    },
    {
     "name": "stdout",
     "output_type": "stream",
     "text": [
      "---------t= 1\n"
     ]
    },
    {
     "name": "stderr",
     "output_type": "stream",
     "text": [
      "100%|██████████████████████████████████████████████████████████████████████████████████| 10/10 [09:47<00:00, 58.74s/it]\n"
     ]
    },
    {
     "name": "stdout",
     "output_type": "stream",
     "text": [
      "---------t= 2\n"
     ]
    },
    {
     "name": "stderr",
     "output_type": "stream",
     "text": [
      "100%|██████████████████████████████████████████████████████████████████████████████████| 10/10 [09:51<00:00, 59.19s/it]\n"
     ]
    },
    {
     "name": "stdout",
     "output_type": "stream",
     "text": [
      "---------t= 3\n"
     ]
    },
    {
     "name": "stderr",
     "output_type": "stream",
     "text": [
      "100%|██████████████████████████████████████████████████████████████████████████████████| 10/10 [09:51<00:00, 59.13s/it]\n"
     ]
    },
    {
     "name": "stdout",
     "output_type": "stream",
     "text": [
      "K= 5\n",
      "---------t= 0\n"
     ]
    },
    {
     "name": "stderr",
     "output_type": "stream",
     "text": [
      "100%|██████████████████████████████████████████████████████████████████████████████████| 10/10 [13:47<00:00, 82.71s/it]\n"
     ]
    },
    {
     "name": "stdout",
     "output_type": "stream",
     "text": [
      "---------t= 1\n"
     ]
    },
    {
     "name": "stderr",
     "output_type": "stream",
     "text": [
      "100%|██████████████████████████████████████████████████████████████████████████████████| 10/10 [13:54<00:00, 83.41s/it]\n"
     ]
    },
    {
     "name": "stdout",
     "output_type": "stream",
     "text": [
      "---------t= 2\n"
     ]
    },
    {
     "name": "stderr",
     "output_type": "stream",
     "text": [
      "100%|██████████████████████████████████████████████████████████████████████████████████| 10/10 [10:54<00:00, 65.50s/it]\n"
     ]
    },
    {
     "name": "stdout",
     "output_type": "stream",
     "text": [
      "---------t= 3\n"
     ]
    },
    {
     "name": "stderr",
     "output_type": "stream",
     "text": [
      "100%|██████████████████████████████████████████████████████████████████████████████████| 10/10 [11:16<00:00, 67.67s/it]\n"
     ]
    },
    {
     "name": "stdout",
     "output_type": "stream",
     "text": [
      "K= 10\n",
      "---------t= 0\n"
     ]
    },
    {
     "name": "stderr",
     "output_type": "stream",
     "text": [
      "100%|██████████████████████████████████████████████████████████████████████████████████| 10/10 [16:02<00:00, 96.30s/it]\n"
     ]
    },
    {
     "name": "stdout",
     "output_type": "stream",
     "text": [
      "---------t= 1\n"
     ]
    },
    {
     "name": "stderr",
     "output_type": "stream",
     "text": [
      "100%|██████████████████████████████████████████████████████████████████████████████████| 10/10 [16:02<00:00, 96.27s/it]\n"
     ]
    },
    {
     "name": "stdout",
     "output_type": "stream",
     "text": [
      "---------t= 2\n"
     ]
    },
    {
     "name": "stderr",
     "output_type": "stream",
     "text": [
      "100%|█████████████████████████████████████████████████████████████████████████████████| 10/10 [19:01<00:00, 114.19s/it]\n"
     ]
    },
    {
     "name": "stdout",
     "output_type": "stream",
     "text": [
      "---------t= 3\n"
     ]
    },
    {
     "name": "stderr",
     "output_type": "stream",
     "text": [
      "100%|██████████████████████████████████████████████████████████████████████████████████| 10/10 [15:53<00:00, 95.34s/it]\n"
     ]
    }
   ],
   "source": [
    "Ks = [1,5,10] \n",
    "Angles = [45]\n",
    "trials = 4\n",
    "epochs = 10\n",
    "T = np.arange(len(train_dataloaderF)*epochs) + 1\n",
    "lrs = 1e-1 * np.ones_like(T) #1e-1 / np.sqrt(T)\n",
    "a = 0.1\n",
    "for angle in Angles:\n",
    "    print(\"Angle=\", angle)\n",
    "    Res = {K:{} for K in Ks}\n",
    "    training_data_rotated = datasets.MNIST(\n",
    "    root=\"data\",\n",
    "    train=True,\n",
    "    download=True,\n",
    "    transform=Compose([ToTensor(),ROTATE(angle)])\n",
    "    )\n",
    "    train_dataloaderH = DataLoader(training_data_rotated, batch_size=64,shuffle=True)\n",
    "    for K in Ks:\n",
    "        print(\"K=\",K)\n",
    "        for t in range(trials):\n",
    "            print(\"---------t=\",t)\n",
    "            model = NeuralNetwork().to(device)\n",
    "            Res[K][t] = AUXMVR(K,lrs,a, model, loss_fn,epochs)\n",
    "            with open(f'results/MnistExpAUXMVR_angle{angle}_2.pkl', 'wb') as f:\n",
    "                 pickle.dump(Res, f)"
   ]
  },
  {
   "cell_type": "code",
   "execution_count": 44,
   "metadata": {
    "tags": []
   },
   "outputs": [],
   "source": [
    "with open(f'results/MnistExp_angle45.pkl', 'rb') as f:\n",
    "        D = pickle.load(f)"
   ]
  },
  {
   "cell_type": "code",
   "execution_count": 54,
   "metadata": {
    "tags": []
   },
   "outputs": [
    {
     "name": "stdout",
     "output_type": "stream",
     "text": [
      "10 0.9447\n",
      "10 0.9447\n"
     ]
    },
    {
     "data": {
      "text/plain": [
       "<matplotlib.legend.Legend at 0x28c9a5bed50>"
      ]
     },
     "execution_count": 54,
     "metadata": {},
     "output_type": "execute_result"
    },
    {
     "data": {
      "image/png": "[encoded data removed]",
      "text/plain": [
       "<Figure size 640x480 with 1 Axes>"
      ]
     },
     "metadata": {},
     "output_type": "display_data"
    }
   ],
   "source": [
    "tp = \"test_acc\"\n",
    "linestyles = [\"solid\",'dashdot','dotted']#,'dashed'\n",
    "Dic = {\"AUXMVR\":Res,\"AUXMOM\":D}\n",
    "K = 10\n",
    "ls = linestyles[0]\n",
    "arr = np.zeros((trials,len(Res[K][0][tp])))\n",
    "for alg in Dic:\n",
    "        Res = Dic[alg]\n",
    "        yfit = np.array(Res[K][0][tp])\n",
    "        print(K,yfit.max())\n",
    "        p = plt.plot(yfit,linestyle=ls,label=alg+str(K))\n",
    "    #color=p[0].get_color()\n",
    "    #plt.fill_between(np.arange(len(yfit)),yfit - dyfit, yfit + dyfit,color=color,alpha=0.4)\n",
    "    \n",
    "    \n",
    "plt.legend()"
   ]
  },
  {
   "cell_type": "code",
   "execution_count": 48,
   "metadata": {
    "tags": []
   },
   "outputs": [
    {
     "name": "stdout",
     "output_type": "stream",
     "text": [
      "1 2.3027706848814136\n",
      "5 2.302045523866694\n",
      "10 2.2999007329027705\n"
     ]
    },
    {
     "data": {
      "text/plain": [
       "<matplotlib.legend.Legend at 0x28c98277a90>"
      ]
     },
     "execution_count": 48,
     "metadata": {},
     "output_type": "execute_result"
    },
    {
     "data": {
      "image/png": "[encoded data removed]",
      "text/plain": [
       "<Figure size 640x480 with 1 Axes>"
      ]
     },
     "metadata": {},
     "output_type": "display_data"
    }
   ],
   "source": [
    "tp = \"train_loss\"\n",
    "linestyles = [\"solid\",'dashdot','dotted']#,'dashed'\n",
    "for K, ls in zip(Ks,linestyles):\n",
    "    arr = np.zeros((trials,len(Res[K][0][tp])))\n",
    "    for i in range(trials):\n",
    "        arr[i] = np.array(Res[K][i][tp])\n",
    "    yfit = arr.mean(0)\n",
    "    dyfit = arr.std(0)\n",
    "    print(K,yfit.max())\n",
    "    p = plt.plot(yfit,linestyle=ls,label=\"AUXMVR\"+str(K))\n",
    "    #color=p[0].get_color()\n",
    "    #plt.fill_between(np.arange(len(yfit)),yfit - dyfit, yfit + dyfit,color=color,alpha=0.4)\n",
    "plt.legend()"
   ]
  },
  {
   "cell_type": "markdown",
   "metadata": {
    "id": "l-BllA9koxYf"
   },
   "source": [
    "### Naive algorithm implementation"
   ]
  },
  {
   "cell_type": "code",
   "execution_count": null,
   "metadata": {
    "id": "Py8_LZIvXtRf"
   },
   "outputs": [],
   "source": [
    "def NaiveAlg(K,lrs,a, model, loss_fn,epochs):\n",
    "\n",
    "    Res = {\"train_loss\":[],\"test_loss\":[],\"test_acc\":[]}\n",
    "    for t in range(epochs):\n",
    "         #print(f\"Epoch {t+1}\\n-------------------------------\")\n",
    "         size = len(train_dataloaderF.dataset)\n",
    "         m_f = [None for _ in model.parameters()]\n",
    "         dloadH = iter(train_dataloaderH)\n",
    "         for batch, (X, y) in enumerate(train_dataloaderF):\n",
    "             lr = lrs[t*len(train_dataloaderF) + batch]\n",
    "             backup = copy.deepcopy(model).to(device)\n",
    "             X, y = X.to(device), y.to(device)\n",
    "             pred = model(X)\n",
    "             loss = loss_fn(pred, y)\n",
    "             model.zero_grad()\n",
    "             loss.backward()\n",
    "             with torch.no_grad():\n",
    "                for i,p in enumerate(model.parameters()):\n",
    "                    m_f[i] = p.grad if batch==0 else (1-a)*m_f[i] + a*p.grad\n",
    "\n",
    "        \n",
    "             try:\n",
    "               (X, y) = next(dloadH)\n",
    "             except StopIteration:\n",
    "               dloadH = iter(train_dataloaderH)\n",
    "               (X, y) = next(dloadH)\n",
    "             X, y = X.to(device), y.to(device)\n",
    "             for k in range(K):\n",
    "                 # Compute prediction and loss\n",
    "                 pred = backup(X)\n",
    "                 loss = loss_fn(pred, y)\n",
    "\n",
    "                 # Backpropagation\n",
    "                 backup.zero_grad()\n",
    "                 loss.backward()\n",
    "\n",
    "                 grad_hx = [None for _ in backup.parameters()]\n",
    "                 with torch.no_grad():\n",
    "                     for i,param in enumerate(backup.parameters()):\n",
    "                           grad_hx[i] = param.grad\n",
    "\n",
    "\n",
    "                 pred = model(X)\n",
    "                 loss = loss_fn(pred, y)\n",
    "\n",
    "                 # Backpropagation\n",
    "                 model.zero_grad()\n",
    "                 loss.backward()\n",
    "\n",
    "                 grad_hy = [None for _ in model.parameters()]\n",
    "                 with torch.no_grad():\n",
    "                     for i,param in enumerate(model.parameters()):\n",
    "                         grad_hy[i] = param.grad\n",
    "\n",
    "                 with torch.no_grad():\n",
    "                     for i,param in enumerate(model.parameters()):\n",
    "                       if k==0:\n",
    "                          param -= lr * m_f[i]\n",
    "                       else:\n",
    "                          param -= lr * grad_hy[i]\n",
    "             if batch % 50 == 0:\n",
    "                 loss, current = loss.item(), batch * len(X)\n",
    "                 # print(f\"loss: {loss:>7f}  [{current:>5d}/{size:>5d}]\")\n",
    "                 Res[\"train_loss\"].append(loss)\n",
    "                 #test\n",
    "                 size = len(test_dataloader.dataset)\n",
    "                 num_batches = len(test_dataloader)\n",
    "                 test_loss, correct = 0, 0\n",
    "\n",
    "                 with torch.no_grad():\n",
    "                    for X, y in test_dataloader:\n",
    "                        X, y = X.to(device), y.to(device)\n",
    "                        pred = model(X)\n",
    "                        test_loss += loss_fn(pred, y).item()\n",
    "                        correct += (pred.argmax(1) == y).type(torch.float).sum().item()\n",
    "\n",
    "                 test_loss /= num_batches\n",
    "                 correct /= size\n",
    "                 Res[\"test_loss\"].append(test_loss)\n",
    "                 Res[\"test_acc\"].append(correct)\n",
    "                    # print(f\"Test Error: \\n Accuracy: {(100*correct):>0.1f}%, Avg loss: {test_loss:>8f} \\n\")\n",
    "    return Res"
   ]
  },
  {
   "cell_type": "code",
   "execution_count": null,
   "metadata": {
    "id": "MvsZZ6fWqkSP",
    "tags": []
   },
   "outputs": [],
   "source": [
    "Ks = [1,5,10] \n",
    "Angles = [0,45,90,180]\n",
    "trials = 10\n",
    "epochs = 10\n",
    "T = np.arange(len(train_dataloaderF)*epochs) + 1\n",
    "lrs = 1e-2 * np.ones_like(T) #1e-1 / np.sqrt(T)\n",
    "a = 0.1\n",
    "for angle in Angles:\n",
    "  print(\"Angle=\", angle)\n",
    "  Res = {K:{} for K in Ks}\n",
    "  training_data_rotated = datasets.MNIST(\n",
    "    root=\"data\",\n",
    "    train=True,\n",
    "    download=True,\n",
    "    transform=Compose([ToTensor(),ROTATE(angle)])\n",
    "    )\n",
    "  train_dataloaderH = DataLoader(training_data_rotated, batch_size=64,shuffle=True)\n",
    "  for K in Ks:\n",
    "    print(\"K=\",K)\n",
    "    for t in range(trials):\n",
    "        print(\"---------t=\",t)\n",
    "        model = NeuralNetwork().to(device)\n",
    "        Res[K][t] = NaiveAlg(K,lrs,a, model, loss_fn,epochs)\n",
    "  with open(f'results/MnistExpNaiveangle{angle}.pkl', 'wb') as f:\n",
    "        pickle.dump(Res, f)"
   ]
  }
 ],
 "metadata": {
  "accelerator": "GPU",
  "colab": {
   "provenance": []
  },
  "gpuClass": "standard",
  "kernelspec": {
   "display_name": "Python 3 (ipykernel)",
   "language": "python",
   "name": "python3"
  },
  "language_info": {
   "codemirror_mode": {
    "name": "ipython",
    "version": 3
   },
   "file_extension": ".py",
   "mimetype": "text/x-python",
   "name": "python",
   "nbconvert_exporter": "python",
   "pygments_lexer": "ipython3",
   "version": "3.11.5"
  },
  "widgets": {
   "application/vnd.jupyter.widget-state+json": {
    "05aeb080b2a7458998bd7c71694f58b7": {
     "model_module": "@jupyter-widgets/controls",
     "model_module_version": "1.5.0",
     "model_name": "ProgressStyleModel",
     "state": {
      "_model_module": "@jupyter-widgets/controls",
      "_model_module_version": "1.5.0",
      "_model_name": "ProgressStyleModel",
      "_view_count": null,
      "_view_module": "@jupyter-widgets/base",
      "_view_module_version": "1.2.0",
      "_view_name": "StyleView",
      "bar_color": null,
      "description_width": ""
     }
    },
    "0ea560d8e56e41fcae9034e4e530a21d": {
     "model_module": "@jupyter-widgets/controls",
     "model_module_version": "1.5.0",
     "model_name": "FloatProgressModel",
     "state": {
      "_dom_classes": [],
      "_model_module": "@jupyter-widgets/controls",
      "_model_module_version": "1.5.0",
      "_model_name": "FloatProgressModel",
      "_view_count": null,
      "_view_module": "@jupyter-widgets/controls",
      "_view_module_version": "1.5.0",
      "_view_name": "ProgressView",
      "bar_style": "success",
      "description": "",
      "description_tooltip": null,
      "layout": "IPY_MODEL_beeea73dda534198a89d60a66e155334",
      "max": 1648877,
      "min": 0,
      "orientation": "horizontal",
      "style": "IPY_MODEL_05aeb080b2a7458998bd7c71694f58b7",
      "value": 1648877
     }
    },
    "1f57638a46454dfabeea0a431ed8a4ef": {
     "model_module": "@jupyter-widgets/base",
     "model_module_version": "1.2.0",
     "model_name": "LayoutModel",
     "state": {
      "_model_module": "@jupyter-widgets/base",
      "_model_module_version": "1.2.0",
      "_model_name": "LayoutModel",
      "_view_count": null,
      "_view_module": "@jupyter-widgets/base",
      "_view_module_version": "1.2.0",
      "_view_name": "LayoutView",
      "align_content": null,
      "align_items": null,
      "align_self": null,
      "border": null,
      "bottom": null,
      "display": null,
      "flex": null,
      "flex_flow": null,
      "grid_area": null,
      "grid_auto_columns": null,
      "grid_auto_flow": null,
      "grid_auto_rows": null,
      "grid_column": null,
      "grid_gap": null,
      "grid_row": null,
      "grid_template_areas": null,
      "grid_template_columns": null,
      "grid_template_rows": null,
      "height": null,
      "justify_content": null,
      "justify_items": null,
      "left": null,
      "margin": null,
      "max_height": null,
      "max_width": null,
      "min_height": null,
      "min_width": null,
      "object_fit": null,
      "object_position": null,
      "order": null,
      "overflow": null,
      "overflow_x": null,
      "overflow_y": null,
      "padding": null,
      "right": null,
      "top": null,
      "visibility": null,
      "width": null
     }
    },
    "244d90e0dc464e299c380e5a64ef8c71": {
     "model_module": "@jupyter-widgets/controls",
     "model_module_version": "1.5.0",
     "model_name": "HBoxModel",
     "state": {
      "_dom_classes": [],
      "_model_module": "@jupyter-widgets/controls",
      "_model_module_version": "1.5.0",
      "_model_name": "HBoxModel",
      "_view_count": null,
      "_view_module": "@jupyter-widgets/controls",
      "_view_module_version": "1.5.0",
      "_view_name": "HBoxView",
      "box_style": "",
      "children": [
       "IPY_MODEL_711935b63d684720b3427ebe83626c8a",
       "IPY_MODEL_85513c902a6248ddbc2e53ad2b0ccb5d",
       "IPY_MODEL_af8bc5de38274ad09edf8a0e0065d1ac"
      ],
      "layout": "IPY_MODEL_8a8cbe06302f4c268abf2171e6b4ea50"
     }
    },
    "33b347f37397439b89bfde21c2448fff": {
     "model_module": "@jupyter-widgets/controls",
     "model_module_version": "1.5.0",
     "model_name": "HTMLModel",
     "state": {
      "_dom_classes": [],
      "_model_module": "@jupyter-widgets/controls",
      "_model_module_version": "1.5.0",
      "_model_name": "HTMLModel",
      "_view_count": null,
      "_view_module": "@jupyter-widgets/controls",
      "_view_module_version": "1.5.0",
      "_view_name": "HTMLView",
      "description": "",
      "description_tooltip": null,
      "layout": "IPY_MODEL_47bee41b9e704791935e4a4a14d3dadf",
      "placeholder": "​",
      "style": "IPY_MODEL_43363a30848540da8d7161b18a5676eb",
      "value": "100%"
     }
    },
    "3d1001be2f984631a05d5a1919db8bdf": {
     "model_module": "@jupyter-widgets/base",
     "model_module_version": "1.2.0",
     "model_name": "LayoutModel",
     "state": {
      "_model_module": "@jupyter-widgets/base",
      "_model_module_version": "1.2.0",
      "_model_name": "LayoutModel",
      "_view_count": null,
      "_view_module": "@jupyter-widgets/base",
      "_view_module_version": "1.2.0",
      "_view_name": "LayoutView",
      "align_content": null,
      "align_items": null,
      "align_self": null,
      "border": null,
      "bottom": null,
      "display": null,
      "flex": null,
      "flex_flow": null,
      "grid_area": null,
      "grid_auto_columns": null,
      "grid_auto_flow": null,
      "grid_auto_rows": null,
      "grid_column": null,
      "grid_gap": null,
      "grid_row": null,
      "grid_template_areas": null,
      "grid_template_columns": null,
      "grid_template_rows": null,
      "height": null,
      "justify_content": null,
      "justify_items": null,
      "left": null,
      "margin": null,
      "max_height": null,
      "max_width": null,
      "min_height": null,
      "min_width": null,
      "object_fit": null,
      "object_position": null,
      "order": null,
      "overflow": null,
      "overflow_x": null,
      "overflow_y": null,
      "padding": null,
      "right": null,
      "top": null,
      "visibility": null,
      "width": null
     }
    },
    "3fec890b76db48ecbbbc8a6a5c0becc5": {
     "model_module": "@jupyter-widgets/controls",
     "model_module_version": "1.5.0",
     "model_name": "DescriptionStyleModel",
     "state": {
      "_model_module": "@jupyter-widgets/controls",
      "_model_module_version": "1.5.0",
      "_model_name": "DescriptionStyleModel",
      "_view_count": null,
      "_view_module": "@jupyter-widgets/base",
      "_view_module_version": "1.2.0",
      "_view_name": "StyleView",
      "description_width": ""
     }
    },
    "43363a30848540da8d7161b18a5676eb": {
     "model_module": "@jupyter-widgets/controls",
     "model_module_version": "1.5.0",
     "model_name": "DescriptionStyleModel",
     "state": {
      "_model_module": "@jupyter-widgets/controls",
      "_model_module_version": "1.5.0",
      "_model_name": "DescriptionStyleModel",
      "_view_count": null,
      "_view_module": "@jupyter-widgets/base",
      "_view_module_version": "1.2.0",
      "_view_name": "StyleView",
      "description_width": ""
     }
    },
    "47bee41b9e704791935e4a4a14d3dadf": {
     "model_module": "@jupyter-widgets/base",
     "model_module_version": "1.2.0",
     "model_name": "LayoutModel",
     "state": {
      "_model_module": "@jupyter-widgets/base",
      "_model_module_version": "1.2.0",
      "_model_name": "LayoutModel",
      "_view_count": null,
      "_view_module": "@jupyter-widgets/base",
      "_view_module_version": "1.2.0",
      "_view_name": "LayoutView",
      "align_content": null,
      "align_items": null,
      "align_self": null,
      "border": null,
      "bottom": null,
      "display": null,
      "flex": null,
      "flex_flow": null,
      "grid_area": null,
      "grid_auto_columns": null,
      "grid_auto_flow": null,
      "grid_auto_rows": null,
      "grid_column": null,
      "grid_gap": null,
      "grid_row": null,
      "grid_template_areas": null,
      "grid_template_columns": null,
      "grid_template_rows": null,
      "height": null,
      "justify_content": null,
      "justify_items": null,
      "left": null,
      "margin": null,
      "max_height": null,
      "max_width": null,
      "min_height": null,
      "min_width": null,
      "object_fit": null,
      "object_position": null,
      "order": null,
      "overflow": null,
      "overflow_x": null,
      "overflow_y": null,
      "padding": null,
      "right": null,
      "top": null,
      "visibility": null,
      "width": null
     }
    },
    "4b6158da63cf49e193f6bf8f97452543": {
     "model_module": "@jupyter-widgets/controls",
     "model_module_version": "1.5.0",
     "model_name": "FloatProgressModel",
     "state": {
      "_dom_classes": [],
      "_model_module": "@jupyter-widgets/controls",
      "_model_module_version": "1.5.0",
      "_model_name": "FloatProgressModel",
      "_view_count": null,
      "_view_module": "@jupyter-widgets/controls",
      "_view_module_version": "1.5.0",
      "_view_name": "ProgressView",
      "bar_style": "success",
      "description": "",
      "description_tooltip": null,
      "layout": "IPY_MODEL_3d1001be2f984631a05d5a1919db8bdf",
      "max": 28881,
      "min": 0,
      "orientation": "horizontal",
      "style": "IPY_MODEL_b536fb6123824034b82f6ebccdd93d2e",
      "value": 28881
     }
    },
    "4c57da3fb4084e2d8fc80856d4f7f86b": {
     "model_module": "@jupyter-widgets/controls",
     "model_module_version": "1.5.0",
     "model_name": "HTMLModel",
     "state": {
      "_dom_classes": [],
      "_model_module": "@jupyter-widgets/controls",
      "_model_module_version": "1.5.0",
      "_model_name": "HTMLModel",
      "_view_count": null,
      "_view_module": "@jupyter-widgets/controls",
      "_view_module_version": "1.5.0",
      "_view_name": "HTMLView",
      "description": "",
      "description_tooltip": null,
      "layout": "IPY_MODEL_707de51a78694b32a683efcc574d3e31",
      "placeholder": "​",
      "style": "IPY_MODEL_aaa7f5f3190249d0bf80ed5adb64cbd7",
      "value": " 4542/4542 [00:00&lt;00:00, 159095.14it/s]"
     }
    },
    "5c6886ee717a43fba1f36bfcc7c199ee": {
     "model_module": "@jupyter-widgets/base",
     "model_module_version": "1.2.0",
     "model_name": "LayoutModel",
     "state": {
      "_model_module": "@jupyter-widgets/base",
      "_model_module_version": "1.2.0",
      "_model_name": "LayoutModel",
      "_view_count": null,
      "_view_module": "@jupyter-widgets/base",
      "_view_module_version": "1.2.0",
      "_view_name": "LayoutView",
      "align_content": null,
      "align_items": null,
      "align_self": null,
      "border": null,
      "bottom": null,
      "display": null,
      "flex": null,
      "flex_flow": null,
      "grid_area": null,
      "grid_auto_columns": null,
      "grid_auto_flow": null,
      "grid_auto_rows": null,
      "grid_column": null,
      "grid_gap": null,
      "grid_row": null,
      "grid_template_areas": null,
      "grid_template_columns": null,
      "grid_template_rows": null,
      "height": null,
      "justify_content": null,
      "justify_items": null,
      "left": null,
      "margin": null,
      "max_height": null,
      "max_width": null,
      "min_height": null,
      "min_width": null,
      "object_fit": null,
      "object_position": null,
      "order": null,
      "overflow": null,
      "overflow_x": null,
      "overflow_y": null,
      "padding": null,
      "right": null,
      "top": null,
      "visibility": null,
      "width": null
     }
    },
    "5f7858d1ee674513baff249a3a378e98": {
     "model_module": "@jupyter-widgets/controls",
     "model_module_version": "1.5.0",
     "model_name": "DescriptionStyleModel",
     "state": {
      "_model_module": "@jupyter-widgets/controls",
      "_model_module_version": "1.5.0",
      "_model_name": "DescriptionStyleModel",
      "_view_count": null,
      "_view_module": "@jupyter-widgets/base",
      "_view_module_version": "1.2.0",
      "_view_name": "StyleView",
      "description_width": ""
     }
    },
    "600b8552184b4b329bdc12321c259b88": {
     "model_module": "@jupyter-widgets/controls",
     "model_module_version": "1.5.0",
     "model_name": "HTMLModel",
     "state": {
      "_dom_classes": [],
      "_model_module": "@jupyter-widgets/controls",
      "_model_module_version": "1.5.0",
      "_model_name": "HTMLModel",
      "_view_count": null,
      "_view_module": "@jupyter-widgets/controls",
      "_view_module_version": "1.5.0",
      "_view_name": "HTMLView",
      "description": "",
      "description_tooltip": null,
      "layout": "IPY_MODEL_c1f8456832be4d62b29b45dba87b9196",
      "placeholder": "​",
      "style": "IPY_MODEL_5f7858d1ee674513baff249a3a378e98",
      "value": "100%"
     }
    },
    "662bfd040cbb42138c5dbdf2955fe0e7": {
     "model_module": "@jupyter-widgets/controls",
     "model_module_version": "1.5.0",
     "model_name": "HBoxModel",
     "state": {
      "_dom_classes": [],
      "_model_module": "@jupyter-widgets/controls",
      "_model_module_version": "1.5.0",
      "_model_name": "HBoxModel",
      "_view_count": null,
      "_view_module": "@jupyter-widgets/controls",
      "_view_module_version": "1.5.0",
      "_view_name": "HBoxView",
      "box_style": "",
      "children": [
       "IPY_MODEL_6ceedd256af54f7481ec935b0d5e6599",
       "IPY_MODEL_4b6158da63cf49e193f6bf8f97452543",
       "IPY_MODEL_b300417d97f2429f875cd4227d1813e3"
      ],
      "layout": "IPY_MODEL_a5690b0e6d9f46a091d9486035ca50a3"
     }
    },
    "6ceedd256af54f7481ec935b0d5e6599": {
     "model_module": "@jupyter-widgets/controls",
     "model_module_version": "1.5.0",
     "model_name": "HTMLModel",
     "state": {
      "_dom_classes": [],
      "_model_module": "@jupyter-widgets/controls",
      "_model_module_version": "1.5.0",
      "_model_name": "HTMLModel",
      "_view_count": null,
      "_view_module": "@jupyter-widgets/controls",
      "_view_module_version": "1.5.0",
      "_view_name": "HTMLView",
      "description": "",
      "description_tooltip": null,
      "layout": "IPY_MODEL_714d444583774d178ede8b45121d8f40",
      "placeholder": "​",
      "style": "IPY_MODEL_b7ea1e3eabb74a6d93c6a78c35a22424",
      "value": "100%"
     }
    },
    "6d3394cf3aa5421c9534c7a127af181c": {
     "model_module": "@jupyter-widgets/base",
     "model_module_version": "1.2.0",
     "model_name": "LayoutModel",
     "state": {
      "_model_module": "@jupyter-widgets/base",
      "_model_module_version": "1.2.0",
      "_model_name": "LayoutModel",
      "_view_count": null,
      "_view_module": "@jupyter-widgets/base",
      "_view_module_version": "1.2.0",
      "_view_name": "LayoutView",
      "align_content": null,
      "align_items": null,
      "align_self": null,
      "border": null,
      "bottom": null,
      "display": null,
      "flex": null,
      "flex_flow": null,
      "grid_area": null,
      "grid_auto_columns": null,
      "grid_auto_flow": null,
      "grid_auto_rows": null,
      "grid_column": null,
      "grid_gap": null,
      "grid_row": null,
      "grid_template_areas": null,
      "grid_template_columns": null,
      "grid_template_rows": null,
      "height": null,
      "justify_content": null,
      "justify_items": null,
      "left": null,
      "margin": null,
      "max_height": null,
      "max_width": null,
      "min_height": null,
      "min_width": null,
      "object_fit": null,
      "object_position": null,
      "order": null,
      "overflow": null,
      "overflow_x": null,
      "overflow_y": null,
      "padding": null,
      "right": null,
      "top": null,
      "visibility": null,
      "width": null
     }
    },
    "6e435934261549f9ac331164af38e35f": {
     "model_module": "@jupyter-widgets/base",
     "model_module_version": "1.2.0",
     "model_name": "LayoutModel",
     "state": {
      "_model_module": "@jupyter-widgets/base",
      "_model_module_version": "1.2.0",
      "_model_name": "LayoutModel",
      "_view_count": null,
      "_view_module": "@jupyter-widgets/base",
      "_view_module_version": "1.2.0",
      "_view_name": "LayoutView",
      "align_content": null,
      "align_items": null,
      "align_self": null,
      "border": null,
      "bottom": null,
      "display": null,
      "flex": null,
      "flex_flow": null,
      "grid_area": null,
      "grid_auto_columns": null,
      "grid_auto_flow": null,
      "grid_auto_rows": null,
      "grid_column": null,
      "grid_gap": null,
      "grid_row": null,
      "grid_template_areas": null,
      "grid_template_columns": null,
      "grid_template_rows": null,
      "height": null,
      "justify_content": null,
      "justify_items": null,
      "left": null,
      "margin": null,
      "max_height": null,
      "max_width": null,
      "min_height": null,
      "min_width": null,
      "object_fit": null,
      "object_position": null,
      "order": null,
      "overflow": null,
      "overflow_x": null,
      "overflow_y": null,
      "padding": null,
      "right": null,
      "top": null,
      "visibility": null,
      "width": null
     }
    },
    "707de51a78694b32a683efcc574d3e31": {
     "model_module": "@jupyter-widgets/base",
     "model_module_version": "1.2.0",
     "model_name": "LayoutModel",
     "state": {
      "_model_module": "@jupyter-widgets/base",
      "_model_module_version": "1.2.0",
      "_model_name": "LayoutModel",
      "_view_count": null,
      "_view_module": "@jupyter-widgets/base",
      "_view_module_version": "1.2.0",
      "_view_name": "LayoutView",
      "align_content": null,
      "align_items": null,
      "align_self": null,
      "border": null,
      "bottom": null,
      "display": null,
      "flex": null,
      "flex_flow": null,
      "grid_area": null,
      "grid_auto_columns": null,
      "grid_auto_flow": null,
      "grid_auto_rows": null,
      "grid_column": null,
      "grid_gap": null,
      "grid_row": null,
      "grid_template_areas": null,
      "grid_template_columns": null,
      "grid_template_rows": null,
      "height": null,
      "justify_content": null,
      "justify_items": null,
      "left": null,
      "margin": null,
      "max_height": null,
      "max_width": null,
      "min_height": null,
      "min_width": null,
      "object_fit": null,
      "object_position": null,
      "order": null,
      "overflow": null,
      "overflow_x": null,
      "overflow_y": null,
      "padding": null,
      "right": null,
      "top": null,
      "visibility": null,
      "width": null
     }
    },
    "711935b63d684720b3427ebe83626c8a": {
     "model_module": "@jupyter-widgets/controls",
     "model_module_version": "1.5.0",
     "model_name": "HTMLModel",
     "state": {
      "_dom_classes": [],
      "_model_module": "@jupyter-widgets/controls",
      "_model_module_version": "1.5.0",
      "_model_name": "HTMLModel",
      "_view_count": null,
      "_view_module": "@jupyter-widgets/controls",
      "_view_module_version": "1.5.0",
      "_view_name": "HTMLView",
      "description": "",
      "description_tooltip": null,
      "layout": "IPY_MODEL_c12f9cb25f394876b3bb794a440dea37",
      "placeholder": "​",
      "style": "IPY_MODEL_720dee2a42744ca4955494375a13ee50",
      "value": "100%"
     }
    },
    "714d444583774d178ede8b45121d8f40": {
     "model_module": "@jupyter-widgets/base",
     "model_module_version": "1.2.0",
     "model_name": "LayoutModel",
     "state": {
      "_model_module": "@jupyter-widgets/base",
      "_model_module_version": "1.2.0",
      "_model_name": "LayoutModel",
      "_view_count": null,
      "_view_module": "@jupyter-widgets/base",
      "_view_module_version": "1.2.0",
      "_view_name": "LayoutView",
      "align_content": null,
      "align_items": null,
      "align_self": null,
      "border": null,
      "bottom": null,
      "display": null,
      "flex": null,
      "flex_flow": null,
      "grid_area": null,
      "grid_auto_columns": null,
      "grid_auto_flow": null,
      "grid_auto_rows": null,
      "grid_column": null,
      "grid_gap": null,
      "grid_row": null,
      "grid_template_areas": null,
      "grid_template_columns": null,
      "grid_template_rows": null,
      "height": null,
      "justify_content": null,
      "justify_items": null,
      "left": null,
      "margin": null,
      "max_height": null,
      "max_width": null,
      "min_height": null,
      "min_width": null,
      "object_fit": null,
      "object_position": null,
      "order": null,
      "overflow": null,
      "overflow_x": null,
      "overflow_y": null,
      "padding": null,
      "right": null,
      "top": null,
      "visibility": null,
      "width": null
     }
    },
    "720dee2a42744ca4955494375a13ee50": {
     "model_module": "@jupyter-widgets/controls",
     "model_module_version": "1.5.0",
     "model_name": "DescriptionStyleModel",
     "state": {
      "_model_module": "@jupyter-widgets/controls",
      "_model_module_version": "1.5.0",
      "_model_name": "DescriptionStyleModel",
      "_view_count": null,
      "_view_module": "@jupyter-widgets/base",
      "_view_module_version": "1.2.0",
      "_view_name": "StyleView",
      "description_width": ""
     }
    },
    "7c38a0a18a684375adf2470cdd9fdb3a": {
     "model_module": "@jupyter-widgets/controls",
     "model_module_version": "1.5.0",
     "model_name": "HTMLModel",
     "state": {
      "_dom_classes": [],
      "_model_module": "@jupyter-widgets/controls",
      "_model_module_version": "1.5.0",
      "_model_name": "HTMLModel",
      "_view_count": null,
      "_view_module": "@jupyter-widgets/controls",
      "_view_module_version": "1.5.0",
      "_view_name": "HTMLView",
      "description": "",
      "description_tooltip": null,
      "layout": "IPY_MODEL_6e435934261549f9ac331164af38e35f",
      "placeholder": "​",
      "style": "IPY_MODEL_eb823a28a54d41a69557c73b20385e13",
      "value": " 1648877/1648877 [00:00&lt;00:00, 31248238.52it/s]"
     }
    },
    "85513c902a6248ddbc2e53ad2b0ccb5d": {
     "model_module": "@jupyter-widgets/controls",
     "model_module_version": "1.5.0",
     "model_name": "FloatProgressModel",
     "state": {
      "_dom_classes": [],
      "_model_module": "@jupyter-widgets/controls",
      "_model_module_version": "1.5.0",
      "_model_name": "FloatProgressModel",
      "_view_count": null,
      "_view_module": "@jupyter-widgets/controls",
      "_view_module_version": "1.5.0",
      "_view_name": "ProgressView",
      "bar_style": "success",
      "description": "",
      "description_tooltip": null,
      "layout": "IPY_MODEL_6d3394cf3aa5421c9534c7a127af181c",
      "max": 9912422,
      "min": 0,
      "orientation": "horizontal",
      "style": "IPY_MODEL_dd2a85ee329145bdbc4b92c3acb29e11",
      "value": 9912422
     }
    },
    "86ce7bb67f3b49f49bc64f98f6a4e9f0": {
     "model_module": "@jupyter-widgets/controls",
     "model_module_version": "1.5.0",
     "model_name": "HBoxModel",
     "state": {
      "_dom_classes": [],
      "_model_module": "@jupyter-widgets/controls",
      "_model_module_version": "1.5.0",
      "_model_name": "HBoxModel",
      "_view_count": null,
      "_view_module": "@jupyter-widgets/controls",
      "_view_module_version": "1.5.0",
      "_view_name": "HBoxView",
      "box_style": "",
      "children": [
       "IPY_MODEL_600b8552184b4b329bdc12321c259b88",
       "IPY_MODEL_a687ac813aa2474485a25a5adab0f1b6",
       "IPY_MODEL_4c57da3fb4084e2d8fc80856d4f7f86b"
      ],
      "layout": "IPY_MODEL_8947c690df244c2ba9fbebee56457918"
     }
    },
    "8947c690df244c2ba9fbebee56457918": {
     "model_module": "@jupyter-widgets/base",
     "model_module_version": "1.2.0",
     "model_name": "LayoutModel",
     "state": {
      "_model_module": "@jupyter-widgets/base",
      "_model_module_version": "1.2.0",
      "_model_name": "LayoutModel",
      "_view_count": null,
      "_view_module": "@jupyter-widgets/base",
      "_view_module_version": "1.2.0",
      "_view_name": "LayoutView",
      "align_content": null,
      "align_items": null,
      "align_self": null,
      "border": null,
      "bottom": null,
      "display": null,
      "flex": null,
      "flex_flow": null,
      "grid_area": null,
      "grid_auto_columns": null,
      "grid_auto_flow": null,
      "grid_auto_rows": null,
      "grid_column": null,
      "grid_gap": null,
      "grid_row": null,
      "grid_template_areas": null,
      "grid_template_columns": null,
      "grid_template_rows": null,
      "height": null,
      "justify_content": null,
      "justify_items": null,
      "left": null,
      "margin": null,
      "max_height": null,
      "max_width": null,
      "min_height": null,
      "min_width": null,
      "object_fit": null,
      "object_position": null,
      "order": null,
      "overflow": null,
      "overflow_x": null,
      "overflow_y": null,
      "padding": null,
      "right": null,
      "top": null,
      "visibility": null,
      "width": null
     }
    },
    "8a8cbe06302f4c268abf2171e6b4ea50": {
     "model_module": "@jupyter-widgets/base",
     "model_module_version": "1.2.0",
     "model_name": "LayoutModel",
     "state": {
      "_model_module": "@jupyter-widgets/base",
      "_model_module_version": "1.2.0",
      "_model_name": "LayoutModel",
      "_view_count": null,
      "_view_module": "@jupyter-widgets/base",
      "_view_module_version": "1.2.0",
      "_view_name": "LayoutView",
      "align_content": null,
      "align_items": null,
      "align_self": null,
      "border": null,
      "bottom": null,
      "display": null,
      "flex": null,
      "flex_flow": null,
      "grid_area": null,
      "grid_auto_columns": null,
      "grid_auto_flow": null,
      "grid_auto_rows": null,
      "grid_column": null,
      "grid_gap": null,
      "grid_row": null,
      "grid_template_areas": null,
      "grid_template_columns": null,
      "grid_template_rows": null,
      "height": null,
      "justify_content": null,
      "justify_items": null,
      "left": null,
      "margin": null,
      "max_height": null,
      "max_width": null,
      "min_height": null,
      "min_width": null,
      "object_fit": null,
      "object_position": null,
      "order": null,
      "overflow": null,
      "overflow_x": null,
      "overflow_y": null,
      "padding": null,
      "right": null,
      "top": null,
      "visibility": null,
      "width": null
     }
    },
    "a5690b0e6d9f46a091d9486035ca50a3": {
     "model_module": "@jupyter-widgets/base",
     "model_module_version": "1.2.0",
     "model_name": "LayoutModel",
     "state": {
      "_model_module": "@jupyter-widgets/base",
      "_model_module_version": "1.2.0",
      "_model_name": "LayoutModel",
      "_view_count": null,
      "_view_module": "@jupyter-widgets/base",
      "_view_module_version": "1.2.0",
      "_view_name": "LayoutView",
      "align_content": null,
      "align_items": null,
      "align_self": null,
      "border": null,
      "bottom": null,
      "display": null,
      "flex": null,
      "flex_flow": null,
      "grid_area": null,
      "grid_auto_columns": null,
      "grid_auto_flow": null,
      "grid_auto_rows": null,
      "grid_column": null,
      "grid_gap": null,
      "grid_row": null,
      "grid_template_areas": null,
      "grid_template_columns": null,
      "grid_template_rows": null,
      "height": null,
      "justify_content": null,
      "justify_items": null,
      "left": null,
      "margin": null,
      "max_height": null,
      "max_width": null,
      "min_height": null,
      "min_width": null,
      "object_fit": null,
      "object_position": null,
      "order": null,
      "overflow": null,
      "overflow_x": null,
      "overflow_y": null,
      "padding": null,
      "right": null,
      "top": null,
      "visibility": null,
      "width": null
     }
    },
    "a687ac813aa2474485a25a5adab0f1b6": {
     "model_module": "@jupyter-widgets/controls",
     "model_module_version": "1.5.0",
     "model_name": "FloatProgressModel",
     "state": {
      "_dom_classes": [],
      "_model_module": "@jupyter-widgets/controls",
      "_model_module_version": "1.5.0",
      "_model_name": "FloatProgressModel",
      "_view_count": null,
      "_view_module": "@jupyter-widgets/controls",
      "_view_module_version": "1.5.0",
      "_view_name": "ProgressView",
      "bar_style": "success",
      "description": "",
      "description_tooltip": null,
      "layout": "IPY_MODEL_c5fd4a6d309b40ed8cbadb0660bb634a",
      "max": 4542,
      "min": 0,
      "orientation": "horizontal",
      "style": "IPY_MODEL_a882e7422e7b49f3b0130ef099d0ff6e",
      "value": 4542
     }
    },
    "a882e7422e7b49f3b0130ef099d0ff6e": {
     "model_module": "@jupyter-widgets/controls",
     "model_module_version": "1.5.0",
     "model_name": "ProgressStyleModel",
     "state": {
      "_model_module": "@jupyter-widgets/controls",
      "_model_module_version": "1.5.0",
      "_model_name": "ProgressStyleModel",
      "_view_count": null,
      "_view_module": "@jupyter-widgets/base",
      "_view_module_version": "1.2.0",
      "_view_name": "StyleView",
      "bar_color": null,
      "description_width": ""
     }
    },
    "aaa7f5f3190249d0bf80ed5adb64cbd7": {
     "model_module": "@jupyter-widgets/controls",
     "model_module_version": "1.5.0",
     "model_name": "DescriptionStyleModel",
     "state": {
      "_model_module": "@jupyter-widgets/controls",
      "_model_module_version": "1.5.0",
      "_model_name": "DescriptionStyleModel",
      "_view_count": null,
      "_view_module": "@jupyter-widgets/base",
      "_view_module_version": "1.2.0",
      "_view_name": "StyleView",
      "description_width": ""
     }
    },
    "af8bc5de38274ad09edf8a0e0065d1ac": {
     "model_module": "@jupyter-widgets/controls",
     "model_module_version": "1.5.0",
     "model_name": "HTMLModel",
     "state": {
      "_dom_classes": [],
      "_model_module": "@jupyter-widgets/controls",
      "_model_module_version": "1.5.0",
      "_model_name": "HTMLModel",
      "_view_count": null,
      "_view_module": "@jupyter-widgets/controls",
      "_view_module_version": "1.5.0",
      "_view_name": "HTMLView",
      "description": "",
      "description_tooltip": null,
      "layout": "IPY_MODEL_1f57638a46454dfabeea0a431ed8a4ef",
      "placeholder": "​",
      "style": "IPY_MODEL_3fec890b76db48ecbbbc8a6a5c0becc5",
      "value": " 9912422/9912422 [00:00&lt;00:00, 78687483.01it/s]"
     }
    },
    "af8f3d4879464f469a70b667437714f8": {
     "model_module": "@jupyter-widgets/controls",
     "model_module_version": "1.5.0",
     "model_name": "HBoxModel",
     "state": {
      "_dom_classes": [],
      "_model_module": "@jupyter-widgets/controls",
      "_model_module_version": "1.5.0",
      "_model_name": "HBoxModel",
      "_view_count": null,
      "_view_module": "@jupyter-widgets/controls",
      "_view_module_version": "1.5.0",
      "_view_name": "HBoxView",
      "box_style": "",
      "children": [
       "IPY_MODEL_33b347f37397439b89bfde21c2448fff",
       "IPY_MODEL_0ea560d8e56e41fcae9034e4e530a21d",
       "IPY_MODEL_7c38a0a18a684375adf2470cdd9fdb3a"
      ],
      "layout": "IPY_MODEL_5c6886ee717a43fba1f36bfcc7c199ee"
     }
    },
    "b300417d97f2429f875cd4227d1813e3": {
     "model_module": "@jupyter-widgets/controls",
     "model_module_version": "1.5.0",
     "model_name": "HTMLModel",
     "state": {
      "_dom_classes": [],
      "_model_module": "@jupyter-widgets/controls",
      "_model_module_version": "1.5.0",
      "_model_name": "HTMLModel",
      "_view_count": null,
      "_view_module": "@jupyter-widgets/controls",
      "_view_module_version": "1.5.0",
      "_view_name": "HTMLView",
      "description": "",
      "description_tooltip": null,
      "layout": "IPY_MODEL_bd249843279b488983288dea23e0623f",
      "placeholder": "​",
      "style": "IPY_MODEL_e3a20be5ccf94e4d813a4771059de048",
      "value": " 28881/28881 [00:00&lt;00:00, 1020459.57it/s]"
     }
    },
    "b536fb6123824034b82f6ebccdd93d2e": {
     "model_module": "@jupyter-widgets/controls",
     "model_module_version": "1.5.0",
     "model_name": "ProgressStyleModel",
     "state": {
      "_model_module": "@jupyter-widgets/controls",
      "_model_module_version": "1.5.0",
      "_model_name": "ProgressStyleModel",
      "_view_count": null,
      "_view_module": "@jupyter-widgets/base",
      "_view_module_version": "1.2.0",
      "_view_name": "StyleView",
      "bar_color": null,
      "description_width": ""
     }
    },
    "b7ea1e3eabb74a6d93c6a78c35a22424": {
     "model_module": "@jupyter-widgets/controls",
     "model_module_version": "1.5.0",
     "model_name": "DescriptionStyleModel",
     "state": {
      "_model_module": "@jupyter-widgets/controls",
      "_model_module_version": "1.5.0",
      "_model_name": "DescriptionStyleModel",
      "_view_count": null,
      "_view_module": "@jupyter-widgets/base",
      "_view_module_version": "1.2.0",
      "_view_name": "StyleView",
      "description_width": ""
     }
    },
    "bd249843279b488983288dea23e0623f": {
     "model_module": "@jupyter-widgets/base",
     "model_module_version": "1.2.0",
     "model_name": "LayoutModel",
     "state": {
      "_model_module": "@jupyter-widgets/base",
      "_model_module_version": "1.2.0",
      "_model_name": "LayoutModel",
      "_view_count": null,
      "_view_module": "@jupyter-widgets/base",
      "_view_module_version": "1.2.0",
      "_view_name": "LayoutView",
      "align_content": null,
      "align_items": null,
      "align_self": null,
      "border": null,
      "bottom": null,
      "display": null,
      "flex": null,
      "flex_flow": null,
      "grid_area": null,
      "grid_auto_columns": null,
      "grid_auto_flow": null,
      "grid_auto_rows": null,
      "grid_column": null,
      "grid_gap": null,
      "grid_row": null,
      "grid_template_areas": null,
      "grid_template_columns": null,
      "grid_template_rows": null,
      "height": null,
      "justify_content": null,
      "justify_items": null,
      "left": null,
      "margin": null,
      "max_height": null,
      "max_width": null,
      "min_height": null,
      "min_width": null,
      "object_fit": null,
      "object_position": null,
      "order": null,
      "overflow": null,
      "overflow_x": null,
      "overflow_y": null,
      "padding": null,
      "right": null,
      "top": null,
      "visibility": null,
      "width": null
     }
    },
    "beeea73dda534198a89d60a66e155334": {
     "model_module": "@jupyter-widgets/base",
     "model_module_version": "1.2.0",
     "model_name": "LayoutModel",
     "state": {
      "_model_module": "@jupyter-widgets/base",
      "_model_module_version": "1.2.0",
      "_model_name": "LayoutModel",
      "_view_count": null,
      "_view_module": "@jupyter-widgets/base",
      "_view_module_version": "1.2.0",
      "_view_name": "LayoutView",
      "align_content": null,
      "align_items": null,
      "align_self": null,
      "border": null,
      "bottom": null,
      "display": null,
      "flex": null,
      "flex_flow": null,
      "grid_area": null,
      "grid_auto_columns": null,
      "grid_auto_flow": null,
      "grid_auto_rows": null,
      "grid_column": null,
      "grid_gap": null,
      "grid_row": null,
      "grid_template_areas": null,
      "grid_template_columns": null,
      "grid_template_rows": null,
      "height": null,
      "justify_content": null,
      "justify_items": null,
      "left": null,
      "margin": null,
      "max_height": null,
      "max_width": null,
      "min_height": null,
      "min_width": null,
      "object_fit": null,
      "object_position": null,
      "order": null,
      "overflow": null,
      "overflow_x": null,
      "overflow_y": null,
      "padding": null,
      "right": null,
      "top": null,
      "visibility": null,
      "width": null
     }
    },
    "c12f9cb25f394876b3bb794a440dea37": {
     "model_module": "@jupyter-widgets/base",
     "model_module_version": "1.2.0",
     "model_name": "LayoutModel",
     "state": {
      "_model_module": "@jupyter-widgets/base",
      "_model_module_version": "1.2.0",
      "_model_name": "LayoutModel",
      "_view_count": null,
      "_view_module": "@jupyter-widgets/base",
      "_view_module_version": "1.2.0",
      "_view_name": "LayoutView",
      "align_content": null,
      "align_items": null,
      "align_self": null,
      "border": null,
      "bottom": null,
      "display": null,
      "flex": null,
      "flex_flow": null,
      "grid_area": null,
      "grid_auto_columns": null,
      "grid_auto_flow": null,
      "grid_auto_rows": null,
      "grid_column": null,
      "grid_gap": null,
      "grid_row": null,
      "grid_template_areas": null,
      "grid_template_columns": null,
      "grid_template_rows": null,
      "height": null,
      "justify_content": null,
      "justify_items": null,
      "left": null,
      "margin": null,
      "max_height": null,
      "max_width": null,
      "min_height": null,
      "min_width": null,
      "object_fit": null,
      "object_position": null,
      "order": null,
      "overflow": null,
      "overflow_x": null,
      "overflow_y": null,
      "padding": null,
      "right": null,
      "top": null,
      "visibility": null,
      "width": null
     }
    },
    "c1f8456832be4d62b29b45dba87b9196": {
     "model_module": "@jupyter-widgets/base",
     "model_module_version": "1.2.0",
     "model_name": "LayoutModel",
     "state": {
      "_model_module": "@jupyter-widgets/base",
      "_model_module_version": "1.2.0",
      "_model_name": "LayoutModel",
      "_view_count": null,
      "_view_module": "@jupyter-widgets/base",
      "_view_module_version": "1.2.0",
      "_view_name": "LayoutView",
      "align_content": null,
      "align_items": null,
      "align_self": null,
      "border": null,
      "bottom": null,
      "display": null,
      "flex": null,
      "flex_flow": null,
      "grid_area": null,
      "grid_auto_columns": null,
      "grid_auto_flow": null,
      "grid_auto_rows": null,
      "grid_column": null,
      "grid_gap": null,
      "grid_row": null,
      "grid_template_areas": null,
      "grid_template_columns": null,
      "grid_template_rows": null,
      "height": null,
      "justify_content": null,
      "justify_items": null,
      "left": null,
      "margin": null,
      "max_height": null,
      "max_width": null,
      "min_height": null,
      "min_width": null,
      "object_fit": null,
      "object_position": null,
      "order": null,
      "overflow": null,
      "overflow_x": null,
      "overflow_y": null,
      "padding": null,
      "right": null,
      "top": null,
      "visibility": null,
      "width": null
     }
    },
    "c5fd4a6d309b40ed8cbadb0660bb634a": {
     "model_module": "@jupyter-widgets/base",
     "model_module_version": "1.2.0",
     "model_name": "LayoutModel",
     "state": {
      "_model_module": "@jupyter-widgets/base",
      "_model_module_version": "1.2.0",
      "_model_name": "LayoutModel",
      "_view_count": null,
      "_view_module": "@jupyter-widgets/base",
      "_view_module_version": "1.2.0",
      "_view_name": "LayoutView",
      "align_content": null,
      "align_items": null,
      "align_self": null,
      "border": null,
      "bottom": null,
      "display": null,
      "flex": null,
      "flex_flow": null,
      "grid_area": null,
      "grid_auto_columns": null,
      "grid_auto_flow": null,
      "grid_auto_rows": null,
      "grid_column": null,
      "grid_gap": null,
      "grid_row": null,
      "grid_template_areas": null,
      "grid_template_columns": null,
      "grid_template_rows": null,
      "height": null,
      "justify_content": null,
      "justify_items": null,
      "left": null,
      "margin": null,
      "max_height": null,
      "max_width": null,
      "min_height": null,
      "min_width": null,
      "object_fit": null,
      "object_position": null,
      "order": null,
      "overflow": null,
      "overflow_x": null,
      "overflow_y": null,
      "padding": null,
      "right": null,
      "top": null,
      "visibility": null,
      "width": null
     }
    },
    "dd2a85ee329145bdbc4b92c3acb29e11": {
     "model_module": "@jupyter-widgets/controls",
     "model_module_version": "1.5.0",
     "model_name": "ProgressStyleModel",
     "state": {
      "_model_module": "@jupyter-widgets/controls",
      "_model_module_version": "1.5.0",
      "_model_name": "ProgressStyleModel",
      "_view_count": null,
      "_view_module": "@jupyter-widgets/base",
      "_view_module_version": "1.2.0",
      "_view_name": "StyleView",
      "bar_color": null,
      "description_width": ""
     }
    },
    "e3a20be5ccf94e4d813a4771059de048": {
     "model_module": "@jupyter-widgets/controls",
     "model_module_version": "1.5.0",
     "model_name": "DescriptionStyleModel",
     "state": {
      "_model_module": "@jupyter-widgets/controls",
      "_model_module_version": "1.5.0",
      "_model_name": "DescriptionStyleModel",
      "_view_count": null,
      "_view_module": "@jupyter-widgets/base",
      "_view_module_version": "1.2.0",
      "_view_name": "StyleView",
      "description_width": ""
     }
    },
    "eb823a28a54d41a69557c73b20385e13": {
     "model_module": "@jupyter-widgets/controls",
     "model_module_version": "1.5.0",
     "model_name": "DescriptionStyleModel",
     "state": {
      "_model_module": "@jupyter-widgets/controls",
      "_model_module_version": "1.5.0",
      "_model_name": "DescriptionStyleModel",
      "_view_count": null,
      "_view_module": "@jupyter-widgets/base",
      "_view_module_version": "1.2.0",
      "_view_name": "StyleView",
      "description_width": ""
     }
    }
   }
  }
 },
 "nbformat": 4,
 "nbformat_minor": 4
}
